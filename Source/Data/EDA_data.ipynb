{
 "cells": [
  {
   "cell_type": "code",
   "execution_count": null,
   "metadata": {},
   "outputs": [],
   "source": [
    "# !pip install mediapipe"
   ]
  },
  {
   "cell_type": "code",
   "execution_count": 1,
   "metadata": {},
   "outputs": [],
   "source": [
    "import matplotlib.pyplot as plt\n",
    "import pandas as pd\n",
    "import numpy as np\n",
    "import seaborn as sns\n",
    "from sklearn.decomposition import PCA\n",
    "from sklearn.preprocessing import StandardScaler\n",
    "import plotly.express as px\n",
    "import os\n",
    "import warnings\n",
    "import cv2\n",
    "import mediapipe as mp"
   ]
  },
  {
   "cell_type": "markdown",
   "metadata": {},
   "source": [
    "Read Data from csv file"
   ]
  },
  {
   "cell_type": "code",
   "execution_count": 2,
   "metadata": {},
   "outputs": [],
   "source": [
    "PreparedData_train= pd.read_csv('Prepared_Data_train.csv')\n",
    "PreparedData_test= pd.read_csv('Prepared_Data_test.csv')"
   ]
  },
  {
   "cell_type": "code",
   "execution_count": 3,
   "metadata": {},
   "outputs": [
    {
     "data": {
      "text/html": [
       "<div>\n",
       "<style scoped>\n",
       "    .dataframe tbody tr th:only-of-type {\n",
       "        vertical-align: middle;\n",
       "    }\n",
       "\n",
       "    .dataframe tbody tr th {\n",
       "        vertical-align: top;\n",
       "    }\n",
       "\n",
       "    .dataframe thead th {\n",
       "        text-align: right;\n",
       "    }\n",
       "</style>\n",
       "<table border=\"1\" class=\"dataframe\">\n",
       "  <thead>\n",
       "    <tr style=\"text-align: right;\">\n",
       "      <th></th>\n",
       "      <th>distance_1</th>\n",
       "      <th>distance_2</th>\n",
       "      <th>distance_3</th>\n",
       "      <th>distance_4</th>\n",
       "      <th>distance_5</th>\n",
       "      <th>distance_6</th>\n",
       "      <th>distance_7</th>\n",
       "      <th>distance_8</th>\n",
       "      <th>distance_9</th>\n",
       "      <th>distance_10</th>\n",
       "      <th>...</th>\n",
       "      <th>distance_128</th>\n",
       "      <th>distance_129</th>\n",
       "      <th>distance_130</th>\n",
       "      <th>distance_131</th>\n",
       "      <th>distance_132</th>\n",
       "      <th>distance_133</th>\n",
       "      <th>distance_134</th>\n",
       "      <th>distance_135</th>\n",
       "      <th>distance_136</th>\n",
       "      <th>labels</th>\n",
       "    </tr>\n",
       "  </thead>\n",
       "  <tbody>\n",
       "    <tr>\n",
       "      <th>0</th>\n",
       "      <td>163.779694</td>\n",
       "      <td>91.169861</td>\n",
       "      <td>146.453796</td>\n",
       "      <td>103.604561</td>\n",
       "      <td>41.397285</td>\n",
       "      <td>26.569262</td>\n",
       "      <td>53.641598</td>\n",
       "      <td>157.573517</td>\n",
       "      <td>157.992249</td>\n",
       "      <td>158.932190</td>\n",
       "      <td>...</td>\n",
       "      <td>151.495880</td>\n",
       "      <td>126.962822</td>\n",
       "      <td>58.803360</td>\n",
       "      <td>20.431931</td>\n",
       "      <td>68.538559</td>\n",
       "      <td>124.941536</td>\n",
       "      <td>54.426525</td>\n",
       "      <td>121.739151</td>\n",
       "      <td>80.930710</td>\n",
       "      <td>0</td>\n",
       "    </tr>\n",
       "    <tr>\n",
       "      <th>1</th>\n",
       "      <td>165.724884</td>\n",
       "      <td>92.697098</td>\n",
       "      <td>148.730042</td>\n",
       "      <td>105.450661</td>\n",
       "      <td>41.662292</td>\n",
       "      <td>26.747046</td>\n",
       "      <td>54.026131</td>\n",
       "      <td>157.205170</td>\n",
       "      <td>157.821182</td>\n",
       "      <td>159.079407</td>\n",
       "      <td>...</td>\n",
       "      <td>153.557236</td>\n",
       "      <td>130.232910</td>\n",
       "      <td>62.440636</td>\n",
       "      <td>20.618986</td>\n",
       "      <td>71.597733</td>\n",
       "      <td>126.150940</td>\n",
       "      <td>56.788689</td>\n",
       "      <td>122.254723</td>\n",
       "      <td>80.697327</td>\n",
       "      <td>0</td>\n",
       "    </tr>\n",
       "    <tr>\n",
       "      <th>2</th>\n",
       "      <td>146.461777</td>\n",
       "      <td>73.788849</td>\n",
       "      <td>130.862411</td>\n",
       "      <td>86.401634</td>\n",
       "      <td>28.464228</td>\n",
       "      <td>15.736864</td>\n",
       "      <td>39.900604</td>\n",
       "      <td>137.142990</td>\n",
       "      <td>140.134384</td>\n",
       "      <td>142.713577</td>\n",
       "      <td>...</td>\n",
       "      <td>140.257767</td>\n",
       "      <td>121.950905</td>\n",
       "      <td>66.354767</td>\n",
       "      <td>18.159061</td>\n",
       "      <td>58.572670</td>\n",
       "      <td>100.870148</td>\n",
       "      <td>45.479759</td>\n",
       "      <td>97.262398</td>\n",
       "      <td>63.730740</td>\n",
       "      <td>0</td>\n",
       "    </tr>\n",
       "    <tr>\n",
       "      <th>3</th>\n",
       "      <td>141.966492</td>\n",
       "      <td>80.233467</td>\n",
       "      <td>120.507202</td>\n",
       "      <td>91.394699</td>\n",
       "      <td>30.586710</td>\n",
       "      <td>18.238525</td>\n",
       "      <td>41.047897</td>\n",
       "      <td>134.986069</td>\n",
       "      <td>135.666748</td>\n",
       "      <td>136.236221</td>\n",
       "      <td>...</td>\n",
       "      <td>133.059097</td>\n",
       "      <td>108.923592</td>\n",
       "      <td>53.128841</td>\n",
       "      <td>16.978106</td>\n",
       "      <td>56.972797</td>\n",
       "      <td>102.900734</td>\n",
       "      <td>46.473064</td>\n",
       "      <td>100.978928</td>\n",
       "      <td>64.182426</td>\n",
       "      <td>0</td>\n",
       "    </tr>\n",
       "    <tr>\n",
       "      <th>4</th>\n",
       "      <td>141.282349</td>\n",
       "      <td>79.056503</td>\n",
       "      <td>117.123848</td>\n",
       "      <td>89.853615</td>\n",
       "      <td>30.666964</td>\n",
       "      <td>18.520103</td>\n",
       "      <td>40.846916</td>\n",
       "      <td>133.869568</td>\n",
       "      <td>134.584976</td>\n",
       "      <td>135.242630</td>\n",
       "      <td>...</td>\n",
       "      <td>131.788391</td>\n",
       "      <td>108.276039</td>\n",
       "      <td>52.370922</td>\n",
       "      <td>16.516668</td>\n",
       "      <td>56.616970</td>\n",
       "      <td>102.407143</td>\n",
       "      <td>46.297825</td>\n",
       "      <td>100.558800</td>\n",
       "      <td>64.307671</td>\n",
       "      <td>0</td>\n",
       "    </tr>\n",
       "    <tr>\n",
       "      <th>...</th>\n",
       "      <td>...</td>\n",
       "      <td>...</td>\n",
       "      <td>...</td>\n",
       "      <td>...</td>\n",
       "      <td>...</td>\n",
       "      <td>...</td>\n",
       "      <td>...</td>\n",
       "      <td>...</td>\n",
       "      <td>...</td>\n",
       "      <td>...</td>\n",
       "      <td>...</td>\n",
       "      <td>...</td>\n",
       "      <td>...</td>\n",
       "      <td>...</td>\n",
       "      <td>...</td>\n",
       "      <td>...</td>\n",
       "      <td>...</td>\n",
       "      <td>...</td>\n",
       "      <td>...</td>\n",
       "      <td>...</td>\n",
       "      <td>...</td>\n",
       "    </tr>\n",
       "    <tr>\n",
       "      <th>633</th>\n",
       "      <td>171.051300</td>\n",
       "      <td>107.201256</td>\n",
       "      <td>153.020233</td>\n",
       "      <td>121.116653</td>\n",
       "      <td>37.638618</td>\n",
       "      <td>21.311468</td>\n",
       "      <td>51.576748</td>\n",
       "      <td>162.578995</td>\n",
       "      <td>162.654312</td>\n",
       "      <td>163.382690</td>\n",
       "      <td>...</td>\n",
       "      <td>162.709290</td>\n",
       "      <td>135.814575</td>\n",
       "      <td>70.445221</td>\n",
       "      <td>21.971836</td>\n",
       "      <td>87.636833</td>\n",
       "      <td>143.209396</td>\n",
       "      <td>71.006187</td>\n",
       "      <td>136.481857</td>\n",
       "      <td>83.180634</td>\n",
       "      <td>1</td>\n",
       "    </tr>\n",
       "    <tr>\n",
       "      <th>634</th>\n",
       "      <td>172.112976</td>\n",
       "      <td>104.728745</td>\n",
       "      <td>152.733414</td>\n",
       "      <td>118.751465</td>\n",
       "      <td>37.368786</td>\n",
       "      <td>21.075872</td>\n",
       "      <td>51.197098</td>\n",
       "      <td>162.881927</td>\n",
       "      <td>162.957825</td>\n",
       "      <td>163.558975</td>\n",
       "      <td>...</td>\n",
       "      <td>163.692764</td>\n",
       "      <td>137.492493</td>\n",
       "      <td>70.647102</td>\n",
       "      <td>21.822168</td>\n",
       "      <td>86.320824</td>\n",
       "      <td>142.299118</td>\n",
       "      <td>69.819778</td>\n",
       "      <td>135.909515</td>\n",
       "      <td>84.028801</td>\n",
       "      <td>1</td>\n",
       "    </tr>\n",
       "    <tr>\n",
       "      <th>635</th>\n",
       "      <td>172.412277</td>\n",
       "      <td>104.717155</td>\n",
       "      <td>153.251053</td>\n",
       "      <td>118.838753</td>\n",
       "      <td>37.507103</td>\n",
       "      <td>21.189474</td>\n",
       "      <td>51.356438</td>\n",
       "      <td>163.396515</td>\n",
       "      <td>163.590942</td>\n",
       "      <td>164.253250</td>\n",
       "      <td>...</td>\n",
       "      <td>163.891373</td>\n",
       "      <td>137.670181</td>\n",
       "      <td>70.581703</td>\n",
       "      <td>21.830339</td>\n",
       "      <td>85.899277</td>\n",
       "      <td>142.029007</td>\n",
       "      <td>69.368416</td>\n",
       "      <td>135.621597</td>\n",
       "      <td>84.057358</td>\n",
       "      <td>1</td>\n",
       "    </tr>\n",
       "    <tr>\n",
       "      <th>636</th>\n",
       "      <td>172.656525</td>\n",
       "      <td>104.919342</td>\n",
       "      <td>153.148041</td>\n",
       "      <td>119.143280</td>\n",
       "      <td>37.890064</td>\n",
       "      <td>21.557217</td>\n",
       "      <td>51.725838</td>\n",
       "      <td>163.518539</td>\n",
       "      <td>163.716522</td>\n",
       "      <td>164.413101</td>\n",
       "      <td>...</td>\n",
       "      <td>164.067963</td>\n",
       "      <td>137.882736</td>\n",
       "      <td>70.537918</td>\n",
       "      <td>21.878210</td>\n",
       "      <td>86.321289</td>\n",
       "      <td>142.285553</td>\n",
       "      <td>69.762215</td>\n",
       "      <td>135.918671</td>\n",
       "      <td>84.244087</td>\n",
       "      <td>1</td>\n",
       "    </tr>\n",
       "    <tr>\n",
       "      <th>637</th>\n",
       "      <td>173.286774</td>\n",
       "      <td>104.634071</td>\n",
       "      <td>153.658676</td>\n",
       "      <td>118.964180</td>\n",
       "      <td>37.842648</td>\n",
       "      <td>21.454733</td>\n",
       "      <td>51.731392</td>\n",
       "      <td>163.729523</td>\n",
       "      <td>163.975250</td>\n",
       "      <td>164.687378</td>\n",
       "      <td>...</td>\n",
       "      <td>164.806702</td>\n",
       "      <td>139.156860</td>\n",
       "      <td>71.510437</td>\n",
       "      <td>21.913765</td>\n",
       "      <td>86.462097</td>\n",
       "      <td>142.441193</td>\n",
       "      <td>69.741798</td>\n",
       "      <td>135.944519</td>\n",
       "      <td>84.547470</td>\n",
       "      <td>1</td>\n",
       "    </tr>\n",
       "  </tbody>\n",
       "</table>\n",
       "<p>638 rows × 137 columns</p>\n",
       "</div>"
      ],
      "text/plain": [
       "     distance_1  distance_2  distance_3  distance_4  distance_5  distance_6  \\\n",
       "0    163.779694   91.169861  146.453796  103.604561   41.397285   26.569262   \n",
       "1    165.724884   92.697098  148.730042  105.450661   41.662292   26.747046   \n",
       "2    146.461777   73.788849  130.862411   86.401634   28.464228   15.736864   \n",
       "3    141.966492   80.233467  120.507202   91.394699   30.586710   18.238525   \n",
       "4    141.282349   79.056503  117.123848   89.853615   30.666964   18.520103   \n",
       "..          ...         ...         ...         ...         ...         ...   \n",
       "633  171.051300  107.201256  153.020233  121.116653   37.638618   21.311468   \n",
       "634  172.112976  104.728745  152.733414  118.751465   37.368786   21.075872   \n",
       "635  172.412277  104.717155  153.251053  118.838753   37.507103   21.189474   \n",
       "636  172.656525  104.919342  153.148041  119.143280   37.890064   21.557217   \n",
       "637  173.286774  104.634071  153.658676  118.964180   37.842648   21.454733   \n",
       "\n",
       "     distance_7  distance_8  distance_9  distance_10  ...  distance_128  \\\n",
       "0     53.641598  157.573517  157.992249   158.932190  ...    151.495880   \n",
       "1     54.026131  157.205170  157.821182   159.079407  ...    153.557236   \n",
       "2     39.900604  137.142990  140.134384   142.713577  ...    140.257767   \n",
       "3     41.047897  134.986069  135.666748   136.236221  ...    133.059097   \n",
       "4     40.846916  133.869568  134.584976   135.242630  ...    131.788391   \n",
       "..          ...         ...         ...          ...  ...           ...   \n",
       "633   51.576748  162.578995  162.654312   163.382690  ...    162.709290   \n",
       "634   51.197098  162.881927  162.957825   163.558975  ...    163.692764   \n",
       "635   51.356438  163.396515  163.590942   164.253250  ...    163.891373   \n",
       "636   51.725838  163.518539  163.716522   164.413101  ...    164.067963   \n",
       "637   51.731392  163.729523  163.975250   164.687378  ...    164.806702   \n",
       "\n",
       "     distance_129  distance_130  distance_131  distance_132  distance_133  \\\n",
       "0      126.962822     58.803360     20.431931     68.538559    124.941536   \n",
       "1      130.232910     62.440636     20.618986     71.597733    126.150940   \n",
       "2      121.950905     66.354767     18.159061     58.572670    100.870148   \n",
       "3      108.923592     53.128841     16.978106     56.972797    102.900734   \n",
       "4      108.276039     52.370922     16.516668     56.616970    102.407143   \n",
       "..            ...           ...           ...           ...           ...   \n",
       "633    135.814575     70.445221     21.971836     87.636833    143.209396   \n",
       "634    137.492493     70.647102     21.822168     86.320824    142.299118   \n",
       "635    137.670181     70.581703     21.830339     85.899277    142.029007   \n",
       "636    137.882736     70.537918     21.878210     86.321289    142.285553   \n",
       "637    139.156860     71.510437     21.913765     86.462097    142.441193   \n",
       "\n",
       "     distance_134  distance_135  distance_136  labels  \n",
       "0       54.426525    121.739151     80.930710       0  \n",
       "1       56.788689    122.254723     80.697327       0  \n",
       "2       45.479759     97.262398     63.730740       0  \n",
       "3       46.473064    100.978928     64.182426       0  \n",
       "4       46.297825    100.558800     64.307671       0  \n",
       "..            ...           ...           ...     ...  \n",
       "633     71.006187    136.481857     83.180634       1  \n",
       "634     69.819778    135.909515     84.028801       1  \n",
       "635     69.368416    135.621597     84.057358       1  \n",
       "636     69.762215    135.918671     84.244087       1  \n",
       "637     69.741798    135.944519     84.547470       1  \n",
       "\n",
       "[638 rows x 137 columns]"
      ]
     },
     "execution_count": 3,
     "metadata": {},
     "output_type": "execute_result"
    }
   ],
   "source": [
    "PreparedData_train\n",
    "# PreparedData_test"
   ]
  },
  {
   "cell_type": "markdown",
   "metadata": {},
   "source": [
    "Check which rows are all 0.0 values"
   ]
  },
  {
   "cell_type": "code",
   "execution_count": 4,
   "metadata": {},
   "outputs": [],
   "source": [
    "def is_row_all_zero_except_label(df):\n",
    "    return (df.drop('labels', axis=1) == 0).all(axis=1)"
   ]
  },
  {
   "cell_type": "code",
   "execution_count": 5,
   "metadata": {},
   "outputs": [
    {
     "name": "stdout",
     "output_type": "stream",
     "text": [
      "Null rows in PrepareddData_train:\n",
      "<bound method DataFrame.to_string of      distance_1  distance_2  distance_3  distance_4  distance_5  distance_6  \\\n",
      "10          0.0         0.0         0.0         0.0         0.0         0.0   \n",
      "17          0.0         0.0         0.0         0.0         0.0         0.0   \n",
      "27          0.0         0.0         0.0         0.0         0.0         0.0   \n",
      "42          0.0         0.0         0.0         0.0         0.0         0.0   \n",
      "52          0.0         0.0         0.0         0.0         0.0         0.0   \n",
      "..          ...         ...         ...         ...         ...         ...   \n",
      "488         0.0         0.0         0.0         0.0         0.0         0.0   \n",
      "497         0.0         0.0         0.0         0.0         0.0         0.0   \n",
      "526         0.0         0.0         0.0         0.0         0.0         0.0   \n",
      "544         0.0         0.0         0.0         0.0         0.0         0.0   \n",
      "565         0.0         0.0         0.0         0.0         0.0         0.0   \n",
      "\n",
      "     distance_7  distance_8  distance_9  distance_10  ...  distance_128  \\\n",
      "10          0.0         0.0         0.0          0.0  ...           0.0   \n",
      "17          0.0         0.0         0.0          0.0  ...           0.0   \n",
      "27          0.0         0.0         0.0          0.0  ...           0.0   \n",
      "42          0.0         0.0         0.0          0.0  ...           0.0   \n",
      "52          0.0         0.0         0.0          0.0  ...           0.0   \n",
      "..          ...         ...         ...          ...  ...           ...   \n",
      "488         0.0         0.0         0.0          0.0  ...           0.0   \n",
      "497         0.0         0.0         0.0          0.0  ...           0.0   \n",
      "526         0.0         0.0         0.0          0.0  ...           0.0   \n",
      "544         0.0         0.0         0.0          0.0  ...           0.0   \n",
      "565         0.0         0.0         0.0          0.0  ...           0.0   \n",
      "\n",
      "     distance_129  distance_130  distance_131  distance_132  distance_133  \\\n",
      "10            0.0           0.0           0.0           0.0           0.0   \n",
      "17            0.0           0.0           0.0           0.0           0.0   \n",
      "27            0.0           0.0           0.0           0.0           0.0   \n",
      "42            0.0           0.0           0.0           0.0           0.0   \n",
      "52            0.0           0.0           0.0           0.0           0.0   \n",
      "..            ...           ...           ...           ...           ...   \n",
      "488           0.0           0.0           0.0           0.0           0.0   \n",
      "497           0.0           0.0           0.0           0.0           0.0   \n",
      "526           0.0           0.0           0.0           0.0           0.0   \n",
      "544           0.0           0.0           0.0           0.0           0.0   \n",
      "565           0.0           0.0           0.0           0.0           0.0   \n",
      "\n",
      "     distance_134  distance_135  distance_136  labels  \n",
      "10            0.0           0.0           0.0       0  \n",
      "17            0.0           0.0           0.0       0  \n",
      "27            0.0           0.0           0.0       0  \n",
      "42            0.0           0.0           0.0       0  \n",
      "52            0.0           0.0           0.0       0  \n",
      "..            ...           ...           ...     ...  \n",
      "488           0.0           0.0           0.0       1  \n",
      "497           0.0           0.0           0.0       1  \n",
      "526           0.0           0.0           0.0       1  \n",
      "544           0.0           0.0           0.0       1  \n",
      "565           0.0           0.0           0.0       1  \n",
      "\n",
      "[75 rows x 137 columns]>\n",
      "Null rows in PreparedData_test:\n"
     ]
    }
   ],
   "source": [
    "# Check for null rows in CombinedData_train\n",
    "null_rows_train = is_row_all_zero_except_label(PreparedData_train)\n",
    "print(\"Null rows in PrepareddData_train:\")\n",
    "print(PreparedData_train[null_rows_train].to_string)\n",
    "\n",
    "# Check for null rows in CombinedData_test\n",
    "null_rows_test = is_row_all_zero_except_label(PreparedData_test)\n",
    "print(\"Null rows in PreparedData_test:\")\n",
    "# print(PreparedData_test[null_rows_test].to_string)"
   ]
  },
  {
   "cell_type": "code",
   "execution_count": 6,
   "metadata": {},
   "outputs": [
    {
     "data": {
      "text/html": [
       "<div>\n",
       "<style scoped>\n",
       "    .dataframe tbody tr th:only-of-type {\n",
       "        vertical-align: middle;\n",
       "    }\n",
       "\n",
       "    .dataframe tbody tr th {\n",
       "        vertical-align: top;\n",
       "    }\n",
       "\n",
       "    .dataframe thead th {\n",
       "        text-align: right;\n",
       "    }\n",
       "</style>\n",
       "<table border=\"1\" class=\"dataframe\">\n",
       "  <thead>\n",
       "    <tr style=\"text-align: right;\">\n",
       "      <th></th>\n",
       "      <th>distance_1</th>\n",
       "      <th>distance_2</th>\n",
       "      <th>distance_3</th>\n",
       "      <th>distance_4</th>\n",
       "      <th>distance_5</th>\n",
       "      <th>distance_6</th>\n",
       "      <th>distance_7</th>\n",
       "      <th>distance_8</th>\n",
       "      <th>distance_9</th>\n",
       "      <th>distance_10</th>\n",
       "      <th>...</th>\n",
       "      <th>distance_128</th>\n",
       "      <th>distance_129</th>\n",
       "      <th>distance_130</th>\n",
       "      <th>distance_131</th>\n",
       "      <th>distance_132</th>\n",
       "      <th>distance_133</th>\n",
       "      <th>distance_134</th>\n",
       "      <th>distance_135</th>\n",
       "      <th>distance_136</th>\n",
       "      <th>labels</th>\n",
       "    </tr>\n",
       "  </thead>\n",
       "  <tbody>\n",
       "    <tr>\n",
       "      <th>10</th>\n",
       "      <td>0.0</td>\n",
       "      <td>0.0</td>\n",
       "      <td>0.0</td>\n",
       "      <td>0.0</td>\n",
       "      <td>0.0</td>\n",
       "      <td>0.0</td>\n",
       "      <td>0.0</td>\n",
       "      <td>0.0</td>\n",
       "      <td>0.0</td>\n",
       "      <td>0.0</td>\n",
       "      <td>...</td>\n",
       "      <td>0.0</td>\n",
       "      <td>0.0</td>\n",
       "      <td>0.0</td>\n",
       "      <td>0.0</td>\n",
       "      <td>0.0</td>\n",
       "      <td>0.0</td>\n",
       "      <td>0.0</td>\n",
       "      <td>0.0</td>\n",
       "      <td>0.0</td>\n",
       "      <td>0</td>\n",
       "    </tr>\n",
       "    <tr>\n",
       "      <th>17</th>\n",
       "      <td>0.0</td>\n",
       "      <td>0.0</td>\n",
       "      <td>0.0</td>\n",
       "      <td>0.0</td>\n",
       "      <td>0.0</td>\n",
       "      <td>0.0</td>\n",
       "      <td>0.0</td>\n",
       "      <td>0.0</td>\n",
       "      <td>0.0</td>\n",
       "      <td>0.0</td>\n",
       "      <td>...</td>\n",
       "      <td>0.0</td>\n",
       "      <td>0.0</td>\n",
       "      <td>0.0</td>\n",
       "      <td>0.0</td>\n",
       "      <td>0.0</td>\n",
       "      <td>0.0</td>\n",
       "      <td>0.0</td>\n",
       "      <td>0.0</td>\n",
       "      <td>0.0</td>\n",
       "      <td>0</td>\n",
       "    </tr>\n",
       "    <tr>\n",
       "      <th>27</th>\n",
       "      <td>0.0</td>\n",
       "      <td>0.0</td>\n",
       "      <td>0.0</td>\n",
       "      <td>0.0</td>\n",
       "      <td>0.0</td>\n",
       "      <td>0.0</td>\n",
       "      <td>0.0</td>\n",
       "      <td>0.0</td>\n",
       "      <td>0.0</td>\n",
       "      <td>0.0</td>\n",
       "      <td>...</td>\n",
       "      <td>0.0</td>\n",
       "      <td>0.0</td>\n",
       "      <td>0.0</td>\n",
       "      <td>0.0</td>\n",
       "      <td>0.0</td>\n",
       "      <td>0.0</td>\n",
       "      <td>0.0</td>\n",
       "      <td>0.0</td>\n",
       "      <td>0.0</td>\n",
       "      <td>0</td>\n",
       "    </tr>\n",
       "    <tr>\n",
       "      <th>42</th>\n",
       "      <td>0.0</td>\n",
       "      <td>0.0</td>\n",
       "      <td>0.0</td>\n",
       "      <td>0.0</td>\n",
       "      <td>0.0</td>\n",
       "      <td>0.0</td>\n",
       "      <td>0.0</td>\n",
       "      <td>0.0</td>\n",
       "      <td>0.0</td>\n",
       "      <td>0.0</td>\n",
       "      <td>...</td>\n",
       "      <td>0.0</td>\n",
       "      <td>0.0</td>\n",
       "      <td>0.0</td>\n",
       "      <td>0.0</td>\n",
       "      <td>0.0</td>\n",
       "      <td>0.0</td>\n",
       "      <td>0.0</td>\n",
       "      <td>0.0</td>\n",
       "      <td>0.0</td>\n",
       "      <td>0</td>\n",
       "    </tr>\n",
       "    <tr>\n",
       "      <th>52</th>\n",
       "      <td>0.0</td>\n",
       "      <td>0.0</td>\n",
       "      <td>0.0</td>\n",
       "      <td>0.0</td>\n",
       "      <td>0.0</td>\n",
       "      <td>0.0</td>\n",
       "      <td>0.0</td>\n",
       "      <td>0.0</td>\n",
       "      <td>0.0</td>\n",
       "      <td>0.0</td>\n",
       "      <td>...</td>\n",
       "      <td>0.0</td>\n",
       "      <td>0.0</td>\n",
       "      <td>0.0</td>\n",
       "      <td>0.0</td>\n",
       "      <td>0.0</td>\n",
       "      <td>0.0</td>\n",
       "      <td>0.0</td>\n",
       "      <td>0.0</td>\n",
       "      <td>0.0</td>\n",
       "      <td>0</td>\n",
       "    </tr>\n",
       "    <tr>\n",
       "      <th>...</th>\n",
       "      <td>...</td>\n",
       "      <td>...</td>\n",
       "      <td>...</td>\n",
       "      <td>...</td>\n",
       "      <td>...</td>\n",
       "      <td>...</td>\n",
       "      <td>...</td>\n",
       "      <td>...</td>\n",
       "      <td>...</td>\n",
       "      <td>...</td>\n",
       "      <td>...</td>\n",
       "      <td>...</td>\n",
       "      <td>...</td>\n",
       "      <td>...</td>\n",
       "      <td>...</td>\n",
       "      <td>...</td>\n",
       "      <td>...</td>\n",
       "      <td>...</td>\n",
       "      <td>...</td>\n",
       "      <td>...</td>\n",
       "      <td>...</td>\n",
       "    </tr>\n",
       "    <tr>\n",
       "      <th>488</th>\n",
       "      <td>0.0</td>\n",
       "      <td>0.0</td>\n",
       "      <td>0.0</td>\n",
       "      <td>0.0</td>\n",
       "      <td>0.0</td>\n",
       "      <td>0.0</td>\n",
       "      <td>0.0</td>\n",
       "      <td>0.0</td>\n",
       "      <td>0.0</td>\n",
       "      <td>0.0</td>\n",
       "      <td>...</td>\n",
       "      <td>0.0</td>\n",
       "      <td>0.0</td>\n",
       "      <td>0.0</td>\n",
       "      <td>0.0</td>\n",
       "      <td>0.0</td>\n",
       "      <td>0.0</td>\n",
       "      <td>0.0</td>\n",
       "      <td>0.0</td>\n",
       "      <td>0.0</td>\n",
       "      <td>1</td>\n",
       "    </tr>\n",
       "    <tr>\n",
       "      <th>497</th>\n",
       "      <td>0.0</td>\n",
       "      <td>0.0</td>\n",
       "      <td>0.0</td>\n",
       "      <td>0.0</td>\n",
       "      <td>0.0</td>\n",
       "      <td>0.0</td>\n",
       "      <td>0.0</td>\n",
       "      <td>0.0</td>\n",
       "      <td>0.0</td>\n",
       "      <td>0.0</td>\n",
       "      <td>...</td>\n",
       "      <td>0.0</td>\n",
       "      <td>0.0</td>\n",
       "      <td>0.0</td>\n",
       "      <td>0.0</td>\n",
       "      <td>0.0</td>\n",
       "      <td>0.0</td>\n",
       "      <td>0.0</td>\n",
       "      <td>0.0</td>\n",
       "      <td>0.0</td>\n",
       "      <td>1</td>\n",
       "    </tr>\n",
       "    <tr>\n",
       "      <th>526</th>\n",
       "      <td>0.0</td>\n",
       "      <td>0.0</td>\n",
       "      <td>0.0</td>\n",
       "      <td>0.0</td>\n",
       "      <td>0.0</td>\n",
       "      <td>0.0</td>\n",
       "      <td>0.0</td>\n",
       "      <td>0.0</td>\n",
       "      <td>0.0</td>\n",
       "      <td>0.0</td>\n",
       "      <td>...</td>\n",
       "      <td>0.0</td>\n",
       "      <td>0.0</td>\n",
       "      <td>0.0</td>\n",
       "      <td>0.0</td>\n",
       "      <td>0.0</td>\n",
       "      <td>0.0</td>\n",
       "      <td>0.0</td>\n",
       "      <td>0.0</td>\n",
       "      <td>0.0</td>\n",
       "      <td>1</td>\n",
       "    </tr>\n",
       "    <tr>\n",
       "      <th>544</th>\n",
       "      <td>0.0</td>\n",
       "      <td>0.0</td>\n",
       "      <td>0.0</td>\n",
       "      <td>0.0</td>\n",
       "      <td>0.0</td>\n",
       "      <td>0.0</td>\n",
       "      <td>0.0</td>\n",
       "      <td>0.0</td>\n",
       "      <td>0.0</td>\n",
       "      <td>0.0</td>\n",
       "      <td>...</td>\n",
       "      <td>0.0</td>\n",
       "      <td>0.0</td>\n",
       "      <td>0.0</td>\n",
       "      <td>0.0</td>\n",
       "      <td>0.0</td>\n",
       "      <td>0.0</td>\n",
       "      <td>0.0</td>\n",
       "      <td>0.0</td>\n",
       "      <td>0.0</td>\n",
       "      <td>1</td>\n",
       "    </tr>\n",
       "    <tr>\n",
       "      <th>565</th>\n",
       "      <td>0.0</td>\n",
       "      <td>0.0</td>\n",
       "      <td>0.0</td>\n",
       "      <td>0.0</td>\n",
       "      <td>0.0</td>\n",
       "      <td>0.0</td>\n",
       "      <td>0.0</td>\n",
       "      <td>0.0</td>\n",
       "      <td>0.0</td>\n",
       "      <td>0.0</td>\n",
       "      <td>...</td>\n",
       "      <td>0.0</td>\n",
       "      <td>0.0</td>\n",
       "      <td>0.0</td>\n",
       "      <td>0.0</td>\n",
       "      <td>0.0</td>\n",
       "      <td>0.0</td>\n",
       "      <td>0.0</td>\n",
       "      <td>0.0</td>\n",
       "      <td>0.0</td>\n",
       "      <td>1</td>\n",
       "    </tr>\n",
       "  </tbody>\n",
       "</table>\n",
       "<p>75 rows × 137 columns</p>\n",
       "</div>"
      ],
      "text/plain": [
       "     distance_1  distance_2  distance_3  distance_4  distance_5  distance_6  \\\n",
       "10          0.0         0.0         0.0         0.0         0.0         0.0   \n",
       "17          0.0         0.0         0.0         0.0         0.0         0.0   \n",
       "27          0.0         0.0         0.0         0.0         0.0         0.0   \n",
       "42          0.0         0.0         0.0         0.0         0.0         0.0   \n",
       "52          0.0         0.0         0.0         0.0         0.0         0.0   \n",
       "..          ...         ...         ...         ...         ...         ...   \n",
       "488         0.0         0.0         0.0         0.0         0.0         0.0   \n",
       "497         0.0         0.0         0.0         0.0         0.0         0.0   \n",
       "526         0.0         0.0         0.0         0.0         0.0         0.0   \n",
       "544         0.0         0.0         0.0         0.0         0.0         0.0   \n",
       "565         0.0         0.0         0.0         0.0         0.0         0.0   \n",
       "\n",
       "     distance_7  distance_8  distance_9  distance_10  ...  distance_128  \\\n",
       "10          0.0         0.0         0.0          0.0  ...           0.0   \n",
       "17          0.0         0.0         0.0          0.0  ...           0.0   \n",
       "27          0.0         0.0         0.0          0.0  ...           0.0   \n",
       "42          0.0         0.0         0.0          0.0  ...           0.0   \n",
       "52          0.0         0.0         0.0          0.0  ...           0.0   \n",
       "..          ...         ...         ...          ...  ...           ...   \n",
       "488         0.0         0.0         0.0          0.0  ...           0.0   \n",
       "497         0.0         0.0         0.0          0.0  ...           0.0   \n",
       "526         0.0         0.0         0.0          0.0  ...           0.0   \n",
       "544         0.0         0.0         0.0          0.0  ...           0.0   \n",
       "565         0.0         0.0         0.0          0.0  ...           0.0   \n",
       "\n",
       "     distance_129  distance_130  distance_131  distance_132  distance_133  \\\n",
       "10            0.0           0.0           0.0           0.0           0.0   \n",
       "17            0.0           0.0           0.0           0.0           0.0   \n",
       "27            0.0           0.0           0.0           0.0           0.0   \n",
       "42            0.0           0.0           0.0           0.0           0.0   \n",
       "52            0.0           0.0           0.0           0.0           0.0   \n",
       "..            ...           ...           ...           ...           ...   \n",
       "488           0.0           0.0           0.0           0.0           0.0   \n",
       "497           0.0           0.0           0.0           0.0           0.0   \n",
       "526           0.0           0.0           0.0           0.0           0.0   \n",
       "544           0.0           0.0           0.0           0.0           0.0   \n",
       "565           0.0           0.0           0.0           0.0           0.0   \n",
       "\n",
       "     distance_134  distance_135  distance_136  labels  \n",
       "10            0.0           0.0           0.0       0  \n",
       "17            0.0           0.0           0.0       0  \n",
       "27            0.0           0.0           0.0       0  \n",
       "42            0.0           0.0           0.0       0  \n",
       "52            0.0           0.0           0.0       0  \n",
       "..            ...           ...           ...     ...  \n",
       "488           0.0           0.0           0.0       1  \n",
       "497           0.0           0.0           0.0       1  \n",
       "526           0.0           0.0           0.0       1  \n",
       "544           0.0           0.0           0.0       1  \n",
       "565           0.0           0.0           0.0       1  \n",
       "\n",
       "[75 rows x 137 columns]"
      ]
     },
     "execution_count": 6,
     "metadata": {},
     "output_type": "execute_result"
    }
   ],
   "source": [
    "PreparedData_train.loc[null_rows_train]"
   ]
  },
  {
   "cell_type": "markdown",
   "metadata": {},
   "source": [
    "Updata Data when remove null values in rows"
   ]
  },
  {
   "cell_type": "code",
   "execution_count": 7,
   "metadata": {},
   "outputs": [
    {
     "data": {
      "text/html": [
       "<div>\n",
       "<style scoped>\n",
       "    .dataframe tbody tr th:only-of-type {\n",
       "        vertical-align: middle;\n",
       "    }\n",
       "\n",
       "    .dataframe tbody tr th {\n",
       "        vertical-align: top;\n",
       "    }\n",
       "\n",
       "    .dataframe thead th {\n",
       "        text-align: right;\n",
       "    }\n",
       "</style>\n",
       "<table border=\"1\" class=\"dataframe\">\n",
       "  <thead>\n",
       "    <tr style=\"text-align: right;\">\n",
       "      <th></th>\n",
       "      <th>distance_1</th>\n",
       "      <th>distance_2</th>\n",
       "      <th>distance_3</th>\n",
       "      <th>distance_4</th>\n",
       "      <th>distance_5</th>\n",
       "      <th>distance_6</th>\n",
       "      <th>distance_7</th>\n",
       "      <th>distance_8</th>\n",
       "      <th>distance_9</th>\n",
       "      <th>distance_10</th>\n",
       "      <th>...</th>\n",
       "      <th>distance_128</th>\n",
       "      <th>distance_129</th>\n",
       "      <th>distance_130</th>\n",
       "      <th>distance_131</th>\n",
       "      <th>distance_132</th>\n",
       "      <th>distance_133</th>\n",
       "      <th>distance_134</th>\n",
       "      <th>distance_135</th>\n",
       "      <th>distance_136</th>\n",
       "      <th>labels</th>\n",
       "    </tr>\n",
       "  </thead>\n",
       "  <tbody>\n",
       "    <tr>\n",
       "      <th>0</th>\n",
       "      <td>163.779694</td>\n",
       "      <td>91.169861</td>\n",
       "      <td>146.453796</td>\n",
       "      <td>103.604561</td>\n",
       "      <td>41.397285</td>\n",
       "      <td>26.569262</td>\n",
       "      <td>53.641598</td>\n",
       "      <td>157.573517</td>\n",
       "      <td>157.992249</td>\n",
       "      <td>158.932190</td>\n",
       "      <td>...</td>\n",
       "      <td>151.495880</td>\n",
       "      <td>126.962822</td>\n",
       "      <td>58.803360</td>\n",
       "      <td>20.431931</td>\n",
       "      <td>68.538559</td>\n",
       "      <td>124.941536</td>\n",
       "      <td>54.426525</td>\n",
       "      <td>121.739151</td>\n",
       "      <td>80.930710</td>\n",
       "      <td>0</td>\n",
       "    </tr>\n",
       "    <tr>\n",
       "      <th>1</th>\n",
       "      <td>165.724884</td>\n",
       "      <td>92.697098</td>\n",
       "      <td>148.730042</td>\n",
       "      <td>105.450661</td>\n",
       "      <td>41.662292</td>\n",
       "      <td>26.747046</td>\n",
       "      <td>54.026131</td>\n",
       "      <td>157.205170</td>\n",
       "      <td>157.821182</td>\n",
       "      <td>159.079407</td>\n",
       "      <td>...</td>\n",
       "      <td>153.557236</td>\n",
       "      <td>130.232910</td>\n",
       "      <td>62.440636</td>\n",
       "      <td>20.618986</td>\n",
       "      <td>71.597733</td>\n",
       "      <td>126.150940</td>\n",
       "      <td>56.788689</td>\n",
       "      <td>122.254723</td>\n",
       "      <td>80.697327</td>\n",
       "      <td>0</td>\n",
       "    </tr>\n",
       "    <tr>\n",
       "      <th>2</th>\n",
       "      <td>146.461777</td>\n",
       "      <td>73.788849</td>\n",
       "      <td>130.862411</td>\n",
       "      <td>86.401634</td>\n",
       "      <td>28.464228</td>\n",
       "      <td>15.736864</td>\n",
       "      <td>39.900604</td>\n",
       "      <td>137.142990</td>\n",
       "      <td>140.134384</td>\n",
       "      <td>142.713577</td>\n",
       "      <td>...</td>\n",
       "      <td>140.257767</td>\n",
       "      <td>121.950905</td>\n",
       "      <td>66.354767</td>\n",
       "      <td>18.159061</td>\n",
       "      <td>58.572670</td>\n",
       "      <td>100.870148</td>\n",
       "      <td>45.479759</td>\n",
       "      <td>97.262398</td>\n",
       "      <td>63.730740</td>\n",
       "      <td>0</td>\n",
       "    </tr>\n",
       "    <tr>\n",
       "      <th>3</th>\n",
       "      <td>141.966492</td>\n",
       "      <td>80.233467</td>\n",
       "      <td>120.507202</td>\n",
       "      <td>91.394699</td>\n",
       "      <td>30.586710</td>\n",
       "      <td>18.238525</td>\n",
       "      <td>41.047897</td>\n",
       "      <td>134.986069</td>\n",
       "      <td>135.666748</td>\n",
       "      <td>136.236221</td>\n",
       "      <td>...</td>\n",
       "      <td>133.059097</td>\n",
       "      <td>108.923592</td>\n",
       "      <td>53.128841</td>\n",
       "      <td>16.978106</td>\n",
       "      <td>56.972797</td>\n",
       "      <td>102.900734</td>\n",
       "      <td>46.473064</td>\n",
       "      <td>100.978928</td>\n",
       "      <td>64.182426</td>\n",
       "      <td>0</td>\n",
       "    </tr>\n",
       "    <tr>\n",
       "      <th>4</th>\n",
       "      <td>141.282349</td>\n",
       "      <td>79.056503</td>\n",
       "      <td>117.123848</td>\n",
       "      <td>89.853615</td>\n",
       "      <td>30.666964</td>\n",
       "      <td>18.520103</td>\n",
       "      <td>40.846916</td>\n",
       "      <td>133.869568</td>\n",
       "      <td>134.584976</td>\n",
       "      <td>135.242630</td>\n",
       "      <td>...</td>\n",
       "      <td>131.788391</td>\n",
       "      <td>108.276039</td>\n",
       "      <td>52.370922</td>\n",
       "      <td>16.516668</td>\n",
       "      <td>56.616970</td>\n",
       "      <td>102.407143</td>\n",
       "      <td>46.297825</td>\n",
       "      <td>100.558800</td>\n",
       "      <td>64.307671</td>\n",
       "      <td>0</td>\n",
       "    </tr>\n",
       "    <tr>\n",
       "      <th>...</th>\n",
       "      <td>...</td>\n",
       "      <td>...</td>\n",
       "      <td>...</td>\n",
       "      <td>...</td>\n",
       "      <td>...</td>\n",
       "      <td>...</td>\n",
       "      <td>...</td>\n",
       "      <td>...</td>\n",
       "      <td>...</td>\n",
       "      <td>...</td>\n",
       "      <td>...</td>\n",
       "      <td>...</td>\n",
       "      <td>...</td>\n",
       "      <td>...</td>\n",
       "      <td>...</td>\n",
       "      <td>...</td>\n",
       "      <td>...</td>\n",
       "      <td>...</td>\n",
       "      <td>...</td>\n",
       "      <td>...</td>\n",
       "      <td>...</td>\n",
       "    </tr>\n",
       "    <tr>\n",
       "      <th>558</th>\n",
       "      <td>171.051300</td>\n",
       "      <td>107.201256</td>\n",
       "      <td>153.020233</td>\n",
       "      <td>121.116653</td>\n",
       "      <td>37.638618</td>\n",
       "      <td>21.311468</td>\n",
       "      <td>51.576748</td>\n",
       "      <td>162.578995</td>\n",
       "      <td>162.654312</td>\n",
       "      <td>163.382690</td>\n",
       "      <td>...</td>\n",
       "      <td>162.709290</td>\n",
       "      <td>135.814575</td>\n",
       "      <td>70.445221</td>\n",
       "      <td>21.971836</td>\n",
       "      <td>87.636833</td>\n",
       "      <td>143.209396</td>\n",
       "      <td>71.006187</td>\n",
       "      <td>136.481857</td>\n",
       "      <td>83.180634</td>\n",
       "      <td>1</td>\n",
       "    </tr>\n",
       "    <tr>\n",
       "      <th>559</th>\n",
       "      <td>172.112976</td>\n",
       "      <td>104.728745</td>\n",
       "      <td>152.733414</td>\n",
       "      <td>118.751465</td>\n",
       "      <td>37.368786</td>\n",
       "      <td>21.075872</td>\n",
       "      <td>51.197098</td>\n",
       "      <td>162.881927</td>\n",
       "      <td>162.957825</td>\n",
       "      <td>163.558975</td>\n",
       "      <td>...</td>\n",
       "      <td>163.692764</td>\n",
       "      <td>137.492493</td>\n",
       "      <td>70.647102</td>\n",
       "      <td>21.822168</td>\n",
       "      <td>86.320824</td>\n",
       "      <td>142.299118</td>\n",
       "      <td>69.819778</td>\n",
       "      <td>135.909515</td>\n",
       "      <td>84.028801</td>\n",
       "      <td>1</td>\n",
       "    </tr>\n",
       "    <tr>\n",
       "      <th>560</th>\n",
       "      <td>172.412277</td>\n",
       "      <td>104.717155</td>\n",
       "      <td>153.251053</td>\n",
       "      <td>118.838753</td>\n",
       "      <td>37.507103</td>\n",
       "      <td>21.189474</td>\n",
       "      <td>51.356438</td>\n",
       "      <td>163.396515</td>\n",
       "      <td>163.590942</td>\n",
       "      <td>164.253250</td>\n",
       "      <td>...</td>\n",
       "      <td>163.891373</td>\n",
       "      <td>137.670181</td>\n",
       "      <td>70.581703</td>\n",
       "      <td>21.830339</td>\n",
       "      <td>85.899277</td>\n",
       "      <td>142.029007</td>\n",
       "      <td>69.368416</td>\n",
       "      <td>135.621597</td>\n",
       "      <td>84.057358</td>\n",
       "      <td>1</td>\n",
       "    </tr>\n",
       "    <tr>\n",
       "      <th>561</th>\n",
       "      <td>172.656525</td>\n",
       "      <td>104.919342</td>\n",
       "      <td>153.148041</td>\n",
       "      <td>119.143280</td>\n",
       "      <td>37.890064</td>\n",
       "      <td>21.557217</td>\n",
       "      <td>51.725838</td>\n",
       "      <td>163.518539</td>\n",
       "      <td>163.716522</td>\n",
       "      <td>164.413101</td>\n",
       "      <td>...</td>\n",
       "      <td>164.067963</td>\n",
       "      <td>137.882736</td>\n",
       "      <td>70.537918</td>\n",
       "      <td>21.878210</td>\n",
       "      <td>86.321289</td>\n",
       "      <td>142.285553</td>\n",
       "      <td>69.762215</td>\n",
       "      <td>135.918671</td>\n",
       "      <td>84.244087</td>\n",
       "      <td>1</td>\n",
       "    </tr>\n",
       "    <tr>\n",
       "      <th>562</th>\n",
       "      <td>173.286774</td>\n",
       "      <td>104.634071</td>\n",
       "      <td>153.658676</td>\n",
       "      <td>118.964180</td>\n",
       "      <td>37.842648</td>\n",
       "      <td>21.454733</td>\n",
       "      <td>51.731392</td>\n",
       "      <td>163.729523</td>\n",
       "      <td>163.975250</td>\n",
       "      <td>164.687378</td>\n",
       "      <td>...</td>\n",
       "      <td>164.806702</td>\n",
       "      <td>139.156860</td>\n",
       "      <td>71.510437</td>\n",
       "      <td>21.913765</td>\n",
       "      <td>86.462097</td>\n",
       "      <td>142.441193</td>\n",
       "      <td>69.741798</td>\n",
       "      <td>135.944519</td>\n",
       "      <td>84.547470</td>\n",
       "      <td>1</td>\n",
       "    </tr>\n",
       "  </tbody>\n",
       "</table>\n",
       "<p>563 rows × 137 columns</p>\n",
       "</div>"
      ],
      "text/plain": [
       "     distance_1  distance_2  distance_3  distance_4  distance_5  distance_6  \\\n",
       "0    163.779694   91.169861  146.453796  103.604561   41.397285   26.569262   \n",
       "1    165.724884   92.697098  148.730042  105.450661   41.662292   26.747046   \n",
       "2    146.461777   73.788849  130.862411   86.401634   28.464228   15.736864   \n",
       "3    141.966492   80.233467  120.507202   91.394699   30.586710   18.238525   \n",
       "4    141.282349   79.056503  117.123848   89.853615   30.666964   18.520103   \n",
       "..          ...         ...         ...         ...         ...         ...   \n",
       "558  171.051300  107.201256  153.020233  121.116653   37.638618   21.311468   \n",
       "559  172.112976  104.728745  152.733414  118.751465   37.368786   21.075872   \n",
       "560  172.412277  104.717155  153.251053  118.838753   37.507103   21.189474   \n",
       "561  172.656525  104.919342  153.148041  119.143280   37.890064   21.557217   \n",
       "562  173.286774  104.634071  153.658676  118.964180   37.842648   21.454733   \n",
       "\n",
       "     distance_7  distance_8  distance_9  distance_10  ...  distance_128  \\\n",
       "0     53.641598  157.573517  157.992249   158.932190  ...    151.495880   \n",
       "1     54.026131  157.205170  157.821182   159.079407  ...    153.557236   \n",
       "2     39.900604  137.142990  140.134384   142.713577  ...    140.257767   \n",
       "3     41.047897  134.986069  135.666748   136.236221  ...    133.059097   \n",
       "4     40.846916  133.869568  134.584976   135.242630  ...    131.788391   \n",
       "..          ...         ...         ...          ...  ...           ...   \n",
       "558   51.576748  162.578995  162.654312   163.382690  ...    162.709290   \n",
       "559   51.197098  162.881927  162.957825   163.558975  ...    163.692764   \n",
       "560   51.356438  163.396515  163.590942   164.253250  ...    163.891373   \n",
       "561   51.725838  163.518539  163.716522   164.413101  ...    164.067963   \n",
       "562   51.731392  163.729523  163.975250   164.687378  ...    164.806702   \n",
       "\n",
       "     distance_129  distance_130  distance_131  distance_132  distance_133  \\\n",
       "0      126.962822     58.803360     20.431931     68.538559    124.941536   \n",
       "1      130.232910     62.440636     20.618986     71.597733    126.150940   \n",
       "2      121.950905     66.354767     18.159061     58.572670    100.870148   \n",
       "3      108.923592     53.128841     16.978106     56.972797    102.900734   \n",
       "4      108.276039     52.370922     16.516668     56.616970    102.407143   \n",
       "..            ...           ...           ...           ...           ...   \n",
       "558    135.814575     70.445221     21.971836     87.636833    143.209396   \n",
       "559    137.492493     70.647102     21.822168     86.320824    142.299118   \n",
       "560    137.670181     70.581703     21.830339     85.899277    142.029007   \n",
       "561    137.882736     70.537918     21.878210     86.321289    142.285553   \n",
       "562    139.156860     71.510437     21.913765     86.462097    142.441193   \n",
       "\n",
       "     distance_134  distance_135  distance_136  labels  \n",
       "0       54.426525    121.739151     80.930710       0  \n",
       "1       56.788689    122.254723     80.697327       0  \n",
       "2       45.479759     97.262398     63.730740       0  \n",
       "3       46.473064    100.978928     64.182426       0  \n",
       "4       46.297825    100.558800     64.307671       0  \n",
       "..            ...           ...           ...     ...  \n",
       "558     71.006187    136.481857     83.180634       1  \n",
       "559     69.819778    135.909515     84.028801       1  \n",
       "560     69.368416    135.621597     84.057358       1  \n",
       "561     69.762215    135.918671     84.244087       1  \n",
       "562     69.741798    135.944519     84.547470       1  \n",
       "\n",
       "[563 rows x 137 columns]"
      ]
     },
     "execution_count": 7,
     "metadata": {},
     "output_type": "execute_result"
    }
   ],
   "source": [
    "# Remove null rows from CombinedData_train and reset the index\n",
    "PreparedData_train = PreparedData_train[~null_rows_train].reset_index(drop=True)\n",
    "\n",
    "# Remove null rows from CombinedData_test and reset the index\n",
    "PreparedData_test = PreparedData_test[~null_rows_test].reset_index(drop=True)\n",
    "\n",
    "PreparedData_train\n"
   ]
  },
  {
   "cell_type": "code",
   "execution_count": 8,
   "metadata": {},
   "outputs": [
    {
     "data": {
      "text/plain": [
       "distance_1      138.298798\n",
       "distance_2      100.457832\n",
       "distance_3      111.273109\n",
       "distance_4      111.890152\n",
       "distance_5       19.522932\n",
       "                   ...    \n",
       "distance_133    125.858162\n",
       "distance_134     72.951042\n",
       "distance_135    119.632225\n",
       "distance_136     64.874657\n",
       "labels            1.000000\n",
       "Name: 526, Length: 137, dtype: float64"
      ]
     },
     "execution_count": 8,
     "metadata": {},
     "output_type": "execute_result"
    }
   ],
   "source": [
    "PreparedData_train.iloc[526]"
   ]
  },
  {
   "cell_type": "markdown",
   "metadata": {},
   "source": [
    "Save file npz "
   ]
  },
  {
   "cell_type": "code",
   "execution_count": 9,
   "metadata": {},
   "outputs": [],
   "source": [
    "\n",
    "# Define the custom directory where you want to save the .npz files\n",
    "save_directory = \"D:\\Abnormal_Behavior\\Source\\Data\"\n",
    "\n",
    "\n",
    "# Specify the file paths for the DataFrames\n",
    "combined_data_train_path = os.path.join(save_directory, 'Preprocessed_Data_train.npz')\n",
    "combined_data_test_path = os.path.join(save_directory, 'Preprocessed_Data_test.npz')\n",
    "\n",
    "# Save CombinedData_train to its .npz file\n",
    "np.savez(combined_data_train_path, landmarks=PreparedData_train.iloc[:,:-1], labels = PreparedData_train.iloc[:,-1])\n",
    "\n",
    "# Save CombinedData_test to its .npz file\n",
    "np.savez(combined_data_test_path, landmarks=PreparedData_test.iloc[:,:-1], labels = PreparedData_test.iloc[:,-1])"
   ]
  },
  {
   "cell_type": "markdown",
   "metadata": {},
   "source": [
    "Check imbalanced data\n"
   ]
  },
  {
   "cell_type": "code",
   "execution_count": 10,
   "metadata": {},
   "outputs": [
    {
     "data": {
      "image/png": "[encoded data removed]",
      "text/plain": [
       "<Figure size 1200x500 with 2 Axes>"
      ]
     },
     "metadata": {},
     "output_type": "display_data"
    }
   ],
   "source": [
    "import pandas as pd\n",
    "import matplotlib.pyplot as plt\n",
    "import seaborn as sns\n",
    "\n",
    "def visualize_class_distribution(dataframe1, dataframe2):\n",
    "    # Count the number of samples in each class for the first dataframe\n",
    "    class_counts1 = dataframe1['labels'].value_counts()\n",
    "\n",
    "    # Count the number of samples in each class for the second dataframe\n",
    "    class_counts2 = dataframe2['labels'].value_counts()\n",
    "\n",
    "    # Create subplots to visualize class distribution\n",
    "    fig, axes = plt.subplots(1, 2, figsize=(12, 5))\n",
    "\n",
    "    # Plot for the first dataframe\n",
    "    sns.barplot(x=class_counts1.index, y=class_counts1, ax=axes[0])\n",
    "    axes[0].set_title(\"Class Distribution in Dataframe 1\")\n",
    "    axes[0].set_xlabel(\"Class\")\n",
    "    axes[0].set_ylabel(\"Count\")\n",
    "\n",
    "    # Plot for the second dataframe\n",
    "    sns.barplot(x=class_counts2.index, y=class_counts2, ax=axes[1])\n",
    "    axes[1].set_title(\"Class Distribution in Dataframe 2\")\n",
    "    axes[1].set_xlabel(\"Class\")\n",
    "    axes[1].set_ylabel(\"Count\")\n",
    "\n",
    "    plt.tight_layout()\n",
    "    plt.show()\n",
    "\n",
    "visualize_class_distribution(PreparedData_train, PreparedData_test)\n"
   ]
  },
  {
   "cell_type": "markdown",
   "metadata": {},
   "source": [
    "Kernel Density Plots to visualize values in data.\n"
   ]
  },
  {
   "cell_type": "code",
   "execution_count": 23,
   "metadata": {},
   "outputs": [
    {
     "data": {
      "image/png": "[encoded data removed]",
      "text/plain": [
       "<Figure size 1000x600 with 1 Axes>"
      ]
     },
     "metadata": {},
     "output_type": "display_data"
    }
   ],
   "source": [
    "\n",
    "\n",
    "\n",
    "def visualize_kde_plots(dataframe):\n",
    "    # Create a subset of the DataFrame by excluding the 'labels' column\n",
    "    subset = dataframe.drop(columns=['labels'], errors='ignore')\n",
    "\n",
    "    # Create Kernel Density Plots for the selected columns\n",
    "    sns.set(style=\"whitegrid\")\n",
    "    plt.figure(figsize=(10, 6))\n",
    "    for column in subset.columns:\n",
    "        with warnings.catch_warnings():\n",
    "            warnings.filterwarnings(\"ignore\")  # Ignore all warnings\n",
    "            sns.kdeplot(subset[column], label=column, shade=True)\n",
    "\n",
    "    plt.title(\"Kernel Density Plots for 136 Selected Columns\")\n",
    "    plt.xlabel(\"Values\")\n",
    "    plt.ylabel(\"Density\")\n",
    "    plt.show()\n",
    "\n",
    "visualize_kde_plots(PreparedData_train)\n"
   ]
  },
  {
   "cell_type": "markdown",
   "metadata": {},
   "source": [
    "PCA_FUNCTION\n"
   ]
  },
  {
   "cell_type": "code",
   "execution_count": 12,
   "metadata": {},
   "outputs": [],
   "source": [
    "\n",
    "\n",
    "def perform_pca(input_df, n_components=3):\n",
    "    # Create a PCA model\n",
    "    pca = PCA(n_components=n_components)\n",
    "\n",
    "    # Fit the PCA model to the input DataFrame\n",
    "    pca_result = pca.fit_transform(input_df)\n",
    "\n",
    "    # Create a new DataFrame with the PCA components\n",
    "    pca_df = pd.DataFrame(data=pca_result, columns=[f'f{i+1}' for i in range(n_components)])\n",
    "\n",
    "    return pca_df"
   ]
  },
  {
   "cell_type": "code",
   "execution_count": 13,
   "metadata": {},
   "outputs": [
    {
     "name": "stdout",
     "output_type": "stream",
     "text": [
      "pca_CombinedData_train:  \n",
      "             f1         f2         f3  labels\n",
      "0    115.945230 -38.056912 -62.951484       0\n",
      "1    130.680469 -38.550720 -51.627929       0\n",
      "2     18.578879 -90.230103 -36.248098       0\n",
      "3    -66.652021 -53.045561 -64.062709       0\n",
      "4    -82.089327 -55.199073 -67.690066       0\n",
      "..          ...        ...        ...     ...\n",
      "558  226.479533  -9.325632 -22.701674       1\n",
      "559  230.145678 -19.597155 -26.050511       1\n",
      "560  233.344338 -20.380624 -27.522586       1\n",
      "561  233.871955 -19.546054 -26.805636       1\n",
      "562  239.768330 -22.369189 -24.988261       1\n",
      "\n",
      "[563 rows x 4 columns]\n",
      "pca_CombinedData_test:  \n",
      "             f1         f2         f3  labels\n",
      "0   -111.280081 -54.666187 -54.273326       0\n",
      "1   -125.146899 -53.956085 -54.383814       0\n",
      "2   -118.442372 -56.243335 -56.455914       0\n",
      "3    -91.276189 -51.791357 -60.081005       0\n",
      "4    -16.500394 -65.773843 -72.659591       0\n",
      "..          ...        ...        ...     ...\n",
      "134   -9.494084  -1.376433  15.930562       1\n",
      "135  -49.270607  -1.401880 -35.535486       1\n",
      "136  157.277062 -34.083929 -49.581299       1\n",
      "137   83.129559  24.650082 -14.643258       1\n",
      "138  181.831472 -16.784041 -39.704349       1\n",
      "\n",
      "[139 rows x 4 columns]\n"
     ]
    }
   ],
   "source": [
    "pca_PreparedData_train = perform_pca(PreparedData_train.drop(columns=['labels']), n_components=3)\n",
    "pca_PreparedData_train = pd.concat([pca_PreparedData_train, PreparedData_train['labels']], axis=1)\n",
    "\n",
    "print(\"pca_CombinedData_train:  \")\n",
    "print(pca_PreparedData_train)\n",
    "# --------------------------------------------------------\n",
    "\n",
    "pca_PreparedData_test= perform_pca(PreparedData_test.drop(columns=['labels']), n_components=3)\n",
    "pca_PreparedData_test = pd.concat([pca_PreparedData_test, PreparedData_test['labels']], axis=1)\n",
    "\n",
    "print(\"pca_CombinedData_test:  \")\n",
    "print(pca_PreparedData_test)"
   ]
  },
  {
   "cell_type": "markdown",
   "metadata": {},
   "source": [
    "Histogram for Label in pca_dataframe."
   ]
  },
  {
   "cell_type": "code",
   "execution_count": 14,
   "metadata": {},
   "outputs": [
    {
     "data": {
      "image/png": "[encoded data removed]",
      "text/plain": [
       "<Figure size 1200x500 with 2 Axes>"
      ]
     },
     "metadata": {},
     "output_type": "display_data"
    }
   ],
   "source": [
    "\n",
    "def visualize_label_histograms(dataframe, dataframe_name):\n",
    "    # Create subplots for label 0 and label 1 histograms\n",
    "    fig, axes = plt.subplots(1, 2, figsize=(12, 5))\n",
    "\n",
    "    for label_value in [0, 1]:\n",
    "        ax = axes[label_value]\n",
    "\n",
    "        for column in dataframe.columns:\n",
    "            if column != 'labels':\n",
    "                data_to_plot = dataframe[dataframe['labels'] == label_value][column]\n",
    "                ax.hist(data_to_plot, bins=10, alpha=0.7, label=column)\n",
    "\n",
    "        ax.set_title(f\"Histogram for Label {label_value} in the {dataframe_name}\")\n",
    "        ax.set_xlabel(\"Values\")\n",
    "        ax.set_ylabel(\"Frequency\")\n",
    "        ax.legend()\n",
    "\n",
    "    plt.tight_layout()\n",
    "    plt.show()\n",
    "\n",
    "# Example usage\n",
    "dataframe_name = \"pca_PreparedData_test\"  # Replace with the actual name of your DataFrame\n",
    "visualize_label_histograms(pca_PreparedData_test, dataframe_name)\n"
   ]
  },
  {
   "cell_type": "markdown",
   "metadata": {},
   "source": [
    "Visualize PCA Data"
   ]
  },
  {
   "cell_type": "code",
   "execution_count": 16,
   "metadata": {},
   "outputs": [
    {
     "data": {
      "text/html": [
       "<div>\n",
       "<style scoped>\n",
       "    .dataframe tbody tr th:only-of-type {\n",
       "        vertical-align: middle;\n",
       "    }\n",
       "\n",
       "    .dataframe tbody tr th {\n",
       "        vertical-align: top;\n",
       "    }\n",
       "\n",
       "    .dataframe thead th {\n",
       "        text-align: right;\n",
       "    }\n",
       "</style>\n",
       "<table border=\"1\" class=\"dataframe\">\n",
       "  <thead>\n",
       "    <tr style=\"text-align: right;\">\n",
       "      <th></th>\n",
       "      <th>f1</th>\n",
       "      <th>f2</th>\n",
       "      <th>f3</th>\n",
       "      <th>labels</th>\n",
       "    </tr>\n",
       "  </thead>\n",
       "  <tbody>\n",
       "    <tr>\n",
       "      <th>0</th>\n",
       "      <td>-0.489150</td>\n",
       "      <td>-0.563472</td>\n",
       "      <td>-1.033075</td>\n",
       "      <td>0</td>\n",
       "    </tr>\n",
       "    <tr>\n",
       "      <th>1</th>\n",
       "      <td>-0.550104</td>\n",
       "      <td>-0.556152</td>\n",
       "      <td>-1.035178</td>\n",
       "      <td>0</td>\n",
       "    </tr>\n",
       "    <tr>\n",
       "      <th>2</th>\n",
       "      <td>-0.520633</td>\n",
       "      <td>-0.579728</td>\n",
       "      <td>-1.074619</td>\n",
       "      <td>0</td>\n",
       "    </tr>\n",
       "    <tr>\n",
       "      <th>3</th>\n",
       "      <td>-0.401220</td>\n",
       "      <td>-0.533839</td>\n",
       "      <td>-1.143622</td>\n",
       "      <td>0</td>\n",
       "    </tr>\n",
       "    <tr>\n",
       "      <th>4</th>\n",
       "      <td>-0.072530</td>\n",
       "      <td>-0.677964</td>\n",
       "      <td>-1.383051</td>\n",
       "      <td>0</td>\n",
       "    </tr>\n",
       "    <tr>\n",
       "      <th>...</th>\n",
       "      <td>...</td>\n",
       "      <td>...</td>\n",
       "      <td>...</td>\n",
       "      <td>...</td>\n",
       "    </tr>\n",
       "    <tr>\n",
       "      <th>134</th>\n",
       "      <td>-0.041733</td>\n",
       "      <td>-0.014188</td>\n",
       "      <td>0.303233</td>\n",
       "      <td>1</td>\n",
       "    </tr>\n",
       "    <tr>\n",
       "      <th>135</th>\n",
       "      <td>-0.216577</td>\n",
       "      <td>-0.014450</td>\n",
       "      <td>-0.676406</td>\n",
       "      <td>1</td>\n",
       "    </tr>\n",
       "    <tr>\n",
       "      <th>136</th>\n",
       "      <td>0.691338</td>\n",
       "      <td>-0.351320</td>\n",
       "      <td>-0.943763</td>\n",
       "      <td>1</td>\n",
       "    </tr>\n",
       "    <tr>\n",
       "      <th>137</th>\n",
       "      <td>0.365410</td>\n",
       "      <td>0.254081</td>\n",
       "      <td>-0.278730</td>\n",
       "      <td>1</td>\n",
       "    </tr>\n",
       "    <tr>\n",
       "      <th>138</th>\n",
       "      <td>0.799271</td>\n",
       "      <td>-0.173001</td>\n",
       "      <td>-0.755759</td>\n",
       "      <td>1</td>\n",
       "    </tr>\n",
       "  </tbody>\n",
       "</table>\n",
       "<p>139 rows × 4 columns</p>\n",
       "</div>"
      ],
      "text/plain": [
       "           f1        f2        f3  labels\n",
       "0   -0.489150 -0.563472 -1.033075       0\n",
       "1   -0.550104 -0.556152 -1.035178       0\n",
       "2   -0.520633 -0.579728 -1.074619       0\n",
       "3   -0.401220 -0.533839 -1.143622       0\n",
       "4   -0.072530 -0.677964 -1.383051       0\n",
       "..        ...       ...       ...     ...\n",
       "134 -0.041733 -0.014188  0.303233       1\n",
       "135 -0.216577 -0.014450 -0.676406       1\n",
       "136  0.691338 -0.351320 -0.943763       1\n",
       "137  0.365410  0.254081 -0.278730       1\n",
       "138  0.799271 -0.173001 -0.755759       1\n",
       "\n",
       "[139 rows x 4 columns]"
      ]
     },
     "execution_count": 16,
     "metadata": {},
     "output_type": "execute_result"
    }
   ],
   "source": [
    "\n",
    "# Create a StandardScaler instance\n",
    "scaler = StandardScaler()\n",
    "\n",
    "# Select the columns for standardization (z-score scaling)\n",
    "columns_to_standardize = [col for col in pca_PreparedData_train.columns if col != 'labels']\n",
    "\n",
    "# Fit and transform the selected columns in both DataFrames\n",
    "pca_PreparedData_train[columns_to_standardize] = scaler.fit_transform(pca_PreparedData_train[columns_to_standardize])\n",
    "pca_PreparedData_test[columns_to_standardize] = scaler.transform(pca_PreparedData_test[columns_to_standardize])\n",
    "\n",
    "# pca_CombinedData_train\n",
    "pca_PreparedData_test"
   ]
  },
  {
   "cell_type": "code",
   "execution_count": 17,
   "metadata": {},
   "outputs": [
    {
     "data": {
      "application/vnd.plotly.v1+json": {
       "config": {
        "plotlyServerURL": "https://plot.ly"
       },
       "data": [
        {
         "hovertemplate": "f1=%{x}<br>f2=%{y}<br>f3=%{z}<br>labels=%{marker.color}<extra></extra>",
         "legendgroup": "",
         "marker": {
          "color": [
           0,
           0,
           0,
           0,
           0,
           0,
           0,
           0,
           0,
           0,
           0,
           0,
           0,
           0,
           0,
           0,
           0,
           0,
           0,
           0,
           0,
           0,
           0,
           0,
           0,
           0,
           0,
           0,
           0,
           0,
           0,
           0,
           0,
           0,
           0,
           0,
           0,
           0,
           0,
           0,
           0,
           0,
           0,
           0,
           0,
           0,
           0,
           0,
           0,
           0,
           0,
           0,
           0,
           0,
           0,
           0,
           0,
           0,
           0,
           0,
           0,
           0,
           0,
           1,
           1,
           1,
           1,
           1,
           1,
           1,
           1,
           1,
           1,
           1,
           1,
           1,
           1,
           1,
           1,
           1,
           1,
           1,
           1,
           1,
           1,
           1,
           1,
           1,
           1,
           1,
           1,
           1,
           1,
           1,
           1,
           1,
           1,
           1,
           1,
           1,
           1,
           1,
           1,
           1,
           1,
           1,
           1,
           1,
           1,
           1,
           1,
           1,
           1,
           1,
           1,
           1,
           1,
           1,
           1,
           1,
           1,
           1,
           1,
           1,
           1,
           1,
           1,
           1,
           1,
           1,
           1,
           1,
           1,
           1,
           1,
           1,
           1,
           1,
           1
          ],
          "coloraxis": "coloraxis",
          "symbol": "circle"
         },
         "mode": "markers",
         "name": "",
         "scene": "scene",
         "showlegend": false,
         "type": "scatter3d",
         "x": [
          -0.4891503950922267,
          -0.550104333664741,
          -0.5206334549770901,
          -0.40121990737634494,
          -0.07253027096078699,
          -0.10942868348873809,
          -1.0632736117687385,
          -0.9572246808527992,
          -0.8255298080886163,
          -0.7796535170613471,
          -0.7742046351555955,
          -0.5099297134221566,
          -1.0705924421725015,
          -0.012983381125241944,
          0.07536288723551206,
          0.10565731696544996,
          0.06620801572751518,
          -0.30401205879847426,
          -0.2751741662935196,
          0.014520437032607586,
          -0.0512624444111967,
          -0.14677314390451388,
          -0.1344508357630278,
          -1.438116552217596,
          -1.449390519344823,
          -1.0251573945608032,
          -0.578825042725007,
          -1.0352185200638306,
          -2.1625505609242754,
          -2.293753637416054,
          -2.18365523634244,
          -2.1327689368428886,
          -1.403006926397489,
          -1.2680459078417214,
          -1.8648570310756845,
          0.21887266074758024,
          0.3912177739621365,
          0.22826640020530806,
          0.1886187531158357,
          0.4976267246892295,
          0.787525020554951,
          0.6953807958759872,
          0.686404606185352,
          0.5711978824081904,
          0.2458615589077155,
          0.4320002271615393,
          -0.2788793163202852,
          -0.23861138258990583,
          -0.0030446230823061365,
          -0.41914568083630893,
          -0.34668259916722005,
          -0.3245252232605702,
          -0.23957290286969962,
          0.9595832735304068,
          1.1469035478061416,
          -0.31815123774698556,
          0.14322257188236615,
          -0.0878466002482064,
          0.13237440153354688,
          -0.16632796164854724,
          0.10095223352722446,
          0.12284973154809223,
          0.0855438664976224,
          0.3347454250507572,
          0.3325270804895716,
          0.04902791974859162,
          0.01249747418347828,
          0.008305089487288697,
          0.0037285776286939305,
          0.0315969615698455,
          0.018648422668740137,
          0.1836275840154025,
          0.1744978692530337,
          0.17367659081526957,
          0.09284235334457683,
          0.3898832468271723,
          0.33473193167338666,
          0.29609304312690876,
          0.1318699664192364,
          0.09654566003666298,
          0.28563496459403337,
          0.22875187715831735,
          0.24070632971832745,
          0.1465529192228837,
          0.10179768680983248,
          0.10032345858729338,
          0.08415722644333135,
          -0.6274309596156639,
          0.14261120169199154,
          0.4190461324857099,
          0.5895395616875528,
          0.43573084085396707,
          0.49987953326942325,
          0.14963404983824466,
          0.23320213477201956,
          0.1894910712688879,
          0.21737956612030018,
          -1.6320006193197605,
          -1.5665810437838,
          -0.23540757705779425,
          -0.5328106903284814,
          -0.7552747972793354,
          -0.6752513360063223,
          0.1821307998232638,
          0.13644053081138863,
          0.14844305206060138,
          0.2386726354159426,
          -0.8338955553169534,
          0.3424116461428107,
          0.35905754210486385,
          0.3026002607388261,
          0.28222824833443994,
          0.6261339565859066,
          0.6263971322383013,
          0.7274162318723423,
          0.4490552593133641,
          0.5357932329444309,
          0.4966618366011505,
          -0.6933189844487114,
          -0.5075300615853379,
          0.032328497515097636,
          1.135502749596297,
          1.5592462171738208,
          2.2246316430339435,
          3.219434923477245,
          1.9500124630959783,
          1.5461122966926928,
          1.539360613118195,
          0.7845076839858148,
          0.6743876358804521,
          0.6410046991636238,
          0.6657544343712819,
          0.6546134133866058,
          0.062284091676687005,
          -0.04173284963579752,
          -0.21657727507449442,
          0.6913378947465817,
          0.3654100186872618,
          0.7992709488025241
         ],
         "y": [
          -0.5634715329579109,
          -0.5561521592913518,
          -0.5797279742807426,
          -0.5338392332383963,
          -0.6779636555216663,
          -0.6047811417282627,
          2.244188724820184,
          2.0944220504111164,
          -1.4485739511153093,
          -1.4892527374703397,
          -1.4712079143329722,
          0.7623912476582428,
          1.7526463464510902,
          -0.15812516380740063,
          -0.06400160154938972,
          -0.04673941047751038,
          -0.013166319766934198,
          -1.4769150236177317,
          -0.7427379750054216,
          -0.08513578730184597,
          -0.18672851058035256,
          -0.17664761638401427,
          -0.20228746098668973,
          0.7284135757510731,
          0.5387193156470328,
          -1.078913894135509,
          -0.45786741747971704,
          -0.32070832752882045,
          1.9170838067042473,
          0.729298343952946,
          -1.1998596500169927,
          -1.258364312159711,
          -0.3950017087069103,
          -0.35490820297992215,
          -1.2298974644427252,
          -1.1005428023250585,
          0.46853085184066834,
          1.253834798795906,
          -1.5247768377848425,
          -1.7077864594338201,
          -1.3582758356152247,
          2.4680719749450017,
          0.7953463829858192,
          0.2685266671597316,
          1.1902039130886017,
          1.0235877425891997,
          3.918463433051471,
          3.821847999620864,
          3.206825216245333,
          -1.20077531151914,
          -0.543662451415796,
          1.0118849272406516,
          -0.43381660533754235,
          0.07882854810144277,
          0.08098716216997633,
          -0.905055836887876,
          -0.2494723759369229,
          -0.9910811001672631,
          -1.0738939447270934,
          1.1300963959361645,
          0.9631834536059701,
          0.8567243826093541,
          1.2570863915904427,
          -0.2706122921999194,
          -0.9922208700728516,
          -0.04948074997824591,
          -0.34059929428995134,
          -0.38266020007469387,
          -0.42743540645893424,
          -0.45296531137890506,
          -0.3948440078544465,
          -0.5627519676574393,
          -0.20429586435410263,
          -0.2319610374713571,
          0.6658158974040864,
          -1.204469038346958,
          -0.454815814912432,
          -0.9535487534798831,
          1.381943706637844,
          1.2235292606556742,
          -0.059017039734399104,
          -0.06523343109305028,
          -0.13580922073772453,
          -0.4152075453382808,
          -0.40198435112926145,
          -0.4394342139427371,
          -0.40396027188606515,
          0.6821855606350439,
          -0.8516494755996091,
          0.27658554365538085,
          -0.061490792487284424,
          0.2932460390143156,
          -0.4469396296293119,
          1.1599917139789875,
          -0.6547520897221536,
          -0.8432430716552216,
          0.181182639348746,
          -0.02806972705567776,
          0.12137355265859369,
          -0.37475143039769954,
          1.3766789135757906,
          -1.2120381074797484,
          -0.944040881055839,
          -0.4870822294109053,
          -0.0017380729464772779,
          0.16905594463009369,
          -0.30949956737533013,
          0.190540989175197,
          -0.7606780262158702,
          -0.0696832090967881,
          0.32770226566258137,
          0.4461002258378739,
          0.36494090750598857,
          -0.0011444252139752504,
          -0.008716409721235394,
          0.5335289191928143,
          -0.1848963832110688,
          1.0053764162572378,
          -0.07886007852367018,
          0.018531958133848694,
          0.5639236916678838,
          -0.45537813700821794,
          -0.5273374799070468,
          -0.33636024694377525,
          0.1428823262981932,
          -0.08545609023707972,
          0.41367602211733867,
          0.7306246421006548,
          -0.44932539404032873,
          -0.3946786811799766,
          0.09450674663536297,
          0.06229915182235417,
          0.0736883995201653,
          0.11100518398793156,
          -0.014187581845660689,
          -0.014449877760830222,
          -0.351319979730384,
          0.25408063519841073,
          -0.17300144042299606
         ],
         "z": [
          -1.0330745473458915,
          -1.035177652922677,
          -1.0746193774915438,
          -1.1436217544343135,
          -1.3830509255949677,
          -1.3100984824439568,
          0.5133938310912848,
          0.5772453326504806,
          1.660032812325993,
          1.6033726044866887,
          1.4731779569123038,
          -0.8199813715312072,
          -0.05152546602410457,
          -0.7766353575854329,
          -0.13440217109875718,
          -0.0006902840804043163,
          0.022097870494001547,
          1.1110634665375216,
          0.45668016508728093,
          0.07128327663267225,
          0.21094040001725461,
          0.14612438544341644,
          0.11983430355837367,
          -2.2356098448947854,
          -2.508228950855428,
          0.06605014151167325,
          -2.3926650482985967,
          -0.7444179858660112,
          1.3641929802221346,
          -0.414335932893176,
          2.6184039706540028,
          2.8976444427690007,
          -0.7424667758169091,
          -0.5008156285751404,
          0.8140924886635706,
          2.1462767868380013,
          0.7390216986474021,
          -0.47062007381723114,
          -0.15662504219694,
          2.624790585672754,
          2.627246039308258,
          0.0641718123268653,
          1.649791242976493,
          1.0385340616276086,
          -0.4190022157463732,
          -2.004016980896141,
          3.2462728295037735,
          3.708742281695249,
          2.0010966530172025,
          1.0553894298674857,
          -1.5694170967697791,
          -0.740081550215878,
          -1.3885374808751219,
          0.7453669653594692,
          0.9446016203705716,
          0.5512390378546045,
          -1.0965662729246617,
          1.1947174920093349,
          1.3758348159987506,
          -0.34105709403709167,
          -0.32683065917514725,
          -0.28529676699436207,
          -0.3128351017877051,
          0.1994003579471745,
          0.26733227083417277,
          -0.37279935593201247,
          -0.21631881625920862,
          -0.135401698741837,
          -0.07770711889740248,
          -0.04474407691668016,
          -0.10098044069457042,
          0.2196588654418863,
          -0.06729345110773736,
          0.005291172218872113,
          -0.544251464731638,
          0.6721677907147514,
          0.1322212588584893,
          0.7436510966861116,
          -0.5993394330709743,
          -0.3348068672908039,
          0.15695436408064894,
          0.20933111133213594,
          0.20061644998390316,
          -0.22114631303342888,
          -0.1743802952688959,
          -0.263335303593171,
          -0.1758678498867344,
          -0.7214625054516602,
          0.2455328811650639,
          -0.41251368886869444,
          -0.5258134660768597,
          -0.20447743935443993,
          0.023328112377559614,
          -0.5666220861641152,
          0.005015115124728486,
          0.21892860392769226,
          -0.5374930397374514,
          -1.1519919129597311,
          -0.8198335284557406,
          -0.03160451888325207,
          -1.0918982363971919,
          0.7519802798064211,
          0.7801461120320405,
          -0.5156694546381989,
          -0.5956463537998331,
          -0.9517747234395144,
          -0.5164351749452277,
          -0.241320788073859,
          -0.2907789267667393,
          -0.5784547513751996,
          -0.7706158042622299,
          -0.7694986840348443,
          -1.059063324403496,
          -0.8677202537145546,
          -0.02495835613329037,
          0.18545518242294526,
          0.6234668478744492,
          -0.22774140675691276,
          0.5578683612894446,
          -1.1095916010399514,
          -0.6647270442895786,
          -1.4724116033186718,
          -1.0591169845249537,
          -0.20389385977085925,
          0.8303108019024272,
          0.7675172867185913,
          0.746856685439948,
          0.07872234517238677,
          0.6397410009075243,
          0.37850774876715826,
          -0.16932022985694892,
          -0.12826989776901382,
          -0.1479899770252262,
          0.44208511149610186,
          0.3032328972713442,
          -0.6764060400630455,
          -0.9437633881771206,
          -0.2787295053580814,
          -0.755758959424091
         ]
        }
       ],
       "layout": {
        "coloraxis": {
         "colorbar": {
          "title": {
           "text": "labels"
          }
         },
         "colorscale": [
          [
           0,
           "#0d0887"
          ],
          [
           0.1111111111111111,
           "#46039f"
          ],
          [
           0.2222222222222222,
           "#7201a8"
          ],
          [
           0.3333333333333333,
           "#9c179e"
          ],
          [
           0.4444444444444444,
           "#bd3786"
          ],
          [
           0.5555555555555556,
           "#d8576b"
          ],
          [
           0.6666666666666666,
           "#ed7953"
          ],
          [
           0.7777777777777778,
           "#fb9f3a"
          ],
          [
           0.8888888888888888,
           "#fdca26"
          ],
          [
           1,
           "#f0f921"
          ]
         ]
        },
        "legend": {
         "tracegroupgap": 0
        },
        "margin": {
         "t": 60
        },
        "scene": {
         "domain": {
          "x": [
           0,
           1
          ],
          "y": [
           0,
           1
          ]
         },
         "xaxis": {
          "title": {
           "text": "f1"
          }
         },
         "yaxis": {
          "title": {
           "text": "f2"
          }
         },
         "zaxis": {
          "title": {
           "text": "f3"
          }
         }
        },
        "template": {
         "data": {
          "bar": [
           {
            "error_x": {
             "color": "#2a3f5f"
            },
            "error_y": {
             "color": "#2a3f5f"
            },
            "marker": {
             "line": {
              "color": "#E5ECF6",
              "width": 0.5
             },
             "pattern": {
              "fillmode": "overlay",
              "size": 10,
              "solidity": 0.2
             }
            },
            "type": "bar"
           }
          ],
          "barpolar": [
           {
            "marker": {
             "line": {
              "color": "#E5ECF6",
              "width": 0.5
             },
             "pattern": {
              "fillmode": "overlay",
              "size": 10,
              "solidity": 0.2
             }
            },
            "type": "barpolar"
           }
          ],
          "carpet": [
           {
            "aaxis": {
             "endlinecolor": "#2a3f5f",
             "gridcolor": "white",
             "linecolor": "white",
             "minorgridcolor": "white",
             "startlinecolor": "#2a3f5f"
            },
            "baxis": {
             "endlinecolor": "#2a3f5f",
             "gridcolor": "white",
             "linecolor": "white",
             "minorgridcolor": "white",
             "startlinecolor": "#2a3f5f"
            },
            "type": "carpet"
           }
          ],
          "choropleth": [
           {
            "colorbar": {
             "outlinewidth": 0,
             "ticks": ""
            },
            "type": "choropleth"
           }
          ],
          "contour": [
           {
            "colorbar": {
             "outlinewidth": 0,
             "ticks": ""
            },
            "colorscale": [
             [
              0,
              "#0d0887"
             ],
             [
              0.1111111111111111,
              "#46039f"
             ],
             [
              0.2222222222222222,
              "#7201a8"
             ],
             [
              0.3333333333333333,
              "#9c179e"
             ],
             [
              0.4444444444444444,
              "#bd3786"
             ],
             [
              0.5555555555555556,
              "#d8576b"
             ],
             [
              0.6666666666666666,
              "#ed7953"
             ],
             [
              0.7777777777777778,
              "#fb9f3a"
             ],
             [
              0.8888888888888888,
              "#fdca26"
             ],
             [
              1,
              "#f0f921"
             ]
            ],
            "type": "contour"
           }
          ],
          "contourcarpet": [
           {
            "colorbar": {
             "outlinewidth": 0,
             "ticks": ""
            },
            "type": "contourcarpet"
           }
          ],
          "heatmap": [
           {
            "colorbar": {
             "outlinewidth": 0,
             "ticks": ""
            },
            "colorscale": [
             [
              0,
              "#0d0887"
             ],
             [
              0.1111111111111111,
              "#46039f"
             ],
             [
              0.2222222222222222,
              "#7201a8"
             ],
             [
              0.3333333333333333,
              "#9c179e"
             ],
             [
              0.4444444444444444,
              "#bd3786"
             ],
             [
              0.5555555555555556,
              "#d8576b"
             ],
             [
              0.6666666666666666,
              "#ed7953"
             ],
             [
              0.7777777777777778,
              "#fb9f3a"
             ],
             [
              0.8888888888888888,
              "#fdca26"
             ],
             [
              1,
              "#f0f921"
             ]
            ],
            "type": "heatmap"
           }
          ],
          "heatmapgl": [
           {
            "colorbar": {
             "outlinewidth": 0,
             "ticks": ""
            },
            "colorscale": [
             [
              0,
              "#0d0887"
             ],
             [
              0.1111111111111111,
              "#46039f"
             ],
             [
              0.2222222222222222,
              "#7201a8"
             ],
             [
              0.3333333333333333,
              "#9c179e"
             ],
             [
              0.4444444444444444,
              "#bd3786"
             ],
             [
              0.5555555555555556,
              "#d8576b"
             ],
             [
              0.6666666666666666,
              "#ed7953"
             ],
             [
              0.7777777777777778,
              "#fb9f3a"
             ],
             [
              0.8888888888888888,
              "#fdca26"
             ],
             [
              1,
              "#f0f921"
             ]
            ],
            "type": "heatmapgl"
           }
          ],
          "histogram": [
           {
            "marker": {
             "pattern": {
              "fillmode": "overlay",
              "size": 10,
              "solidity": 0.2
             }
            },
            "type": "histogram"
           }
          ],
          "histogram2d": [
           {
            "colorbar": {
             "outlinewidth": 0,
             "ticks": ""
            },
            "colorscale": [
             [
              0,
              "#0d0887"
             ],
             [
              0.1111111111111111,
              "#46039f"
             ],
             [
              0.2222222222222222,
              "#7201a8"
             ],
             [
              0.3333333333333333,
              "#9c179e"
             ],
             [
              0.4444444444444444,
              "#bd3786"
             ],
             [
              0.5555555555555556,
              "#d8576b"
             ],
             [
              0.6666666666666666,
              "#ed7953"
             ],
             [
              0.7777777777777778,
              "#fb9f3a"
             ],
             [
              0.8888888888888888,
              "#fdca26"
             ],
             [
              1,
              "#f0f921"
             ]
            ],
            "type": "histogram2d"
           }
          ],
          "histogram2dcontour": [
           {
            "colorbar": {
             "outlinewidth": 0,
             "ticks": ""
            },
            "colorscale": [
             [
              0,
              "#0d0887"
             ],
             [
              0.1111111111111111,
              "#46039f"
             ],
             [
              0.2222222222222222,
              "#7201a8"
             ],
             [
              0.3333333333333333,
              "#9c179e"
             ],
             [
              0.4444444444444444,
              "#bd3786"
             ],
             [
              0.5555555555555556,
              "#d8576b"
             ],
             [
              0.6666666666666666,
              "#ed7953"
             ],
             [
              0.7777777777777778,
              "#fb9f3a"
             ],
             [
              0.8888888888888888,
              "#fdca26"
             ],
             [
              1,
              "#f0f921"
             ]
            ],
            "type": "histogram2dcontour"
           }
          ],
          "mesh3d": [
           {
            "colorbar": {
             "outlinewidth": 0,
             "ticks": ""
            },
            "type": "mesh3d"
           }
          ],
          "parcoords": [
           {
            "line": {
             "colorbar": {
              "outlinewidth": 0,
              "ticks": ""
             }
            },
            "type": "parcoords"
           }
          ],
          "pie": [
           {
            "automargin": true,
            "type": "pie"
           }
          ],
          "scatter": [
           {
            "fillpattern": {
             "fillmode": "overlay",
             "size": 10,
             "solidity": 0.2
            },
            "type": "scatter"
           }
          ],
          "scatter3d": [
           {
            "line": {
             "colorbar": {
              "outlinewidth": 0,
              "ticks": ""
             }
            },
            "marker": {
             "colorbar": {
              "outlinewidth": 0,
              "ticks": ""
             }
            },
            "type": "scatter3d"
           }
          ],
          "scattercarpet": [
           {
            "marker": {
             "colorbar": {
              "outlinewidth": 0,
              "ticks": ""
             }
            },
            "type": "scattercarpet"
           }
          ],
          "scattergeo": [
           {
            "marker": {
             "colorbar": {
              "outlinewidth": 0,
              "ticks": ""
             }
            },
            "type": "scattergeo"
           }
          ],
          "scattergl": [
           {
            "marker": {
             "colorbar": {
              "outlinewidth": 0,
              "ticks": ""
             }
            },
            "type": "scattergl"
           }
          ],
          "scattermapbox": [
           {
            "marker": {
             "colorbar": {
              "outlinewidth": 0,
              "ticks": ""
             }
            },
            "type": "scattermapbox"
           }
          ],
          "scatterpolar": [
           {
            "marker": {
             "colorbar": {
              "outlinewidth": 0,
              "ticks": ""
             }
            },
            "type": "scatterpolar"
           }
          ],
          "scatterpolargl": [
           {
            "marker": {
             "colorbar": {
              "outlinewidth": 0,
              "ticks": ""
             }
            },
            "type": "scatterpolargl"
           }
          ],
          "scatterternary": [
           {
            "marker": {
             "colorbar": {
              "outlinewidth": 0,
              "ticks": ""
             }
            },
            "type": "scatterternary"
           }
          ],
          "surface": [
           {
            "colorbar": {
             "outlinewidth": 0,
             "ticks": ""
            },
            "colorscale": [
             [
              0,
              "#0d0887"
             ],
             [
              0.1111111111111111,
              "#46039f"
             ],
             [
              0.2222222222222222,
              "#7201a8"
             ],
             [
              0.3333333333333333,
              "#9c179e"
             ],
             [
              0.4444444444444444,
              "#bd3786"
             ],
             [
              0.5555555555555556,
              "#d8576b"
             ],
             [
              0.6666666666666666,
              "#ed7953"
             ],
             [
              0.7777777777777778,
              "#fb9f3a"
             ],
             [
              0.8888888888888888,
              "#fdca26"
             ],
             [
              1,
              "#f0f921"
             ]
            ],
            "type": "surface"
           }
          ],
          "table": [
           {
            "cells": {
             "fill": {
              "color": "#EBF0F8"
             },
             "line": {
              "color": "white"
             }
            },
            "header": {
             "fill": {
              "color": "#C8D4E3"
             },
             "line": {
              "color": "white"
             }
            },
            "type": "table"
           }
          ]
         },
         "layout": {
          "annotationdefaults": {
           "arrowcolor": "#2a3f5f",
           "arrowhead": 0,
           "arrowwidth": 1
          },
          "autotypenumbers": "strict",
          "coloraxis": {
           "colorbar": {
            "outlinewidth": 0,
            "ticks": ""
           }
          },
          "colorscale": {
           "diverging": [
            [
             0,
             "#8e0152"
            ],
            [
             0.1,
             "#c51b7d"
            ],
            [
             0.2,
             "#de77ae"
            ],
            [
             0.3,
             "#f1b6da"
            ],
            [
             0.4,
             "#fde0ef"
            ],
            [
             0.5,
             "#f7f7f7"
            ],
            [
             0.6,
             "#e6f5d0"
            ],
            [
             0.7,
             "#b8e186"
            ],
            [
             0.8,
             "#7fbc41"
            ],
            [
             0.9,
             "#4d9221"
            ],
            [
             1,
             "#276419"
            ]
           ],
           "sequential": [
            [
             0,
             "#0d0887"
            ],
            [
             0.1111111111111111,
             "#46039f"
            ],
            [
             0.2222222222222222,
             "#7201a8"
            ],
            [
             0.3333333333333333,
             "#9c179e"
            ],
            [
             0.4444444444444444,
             "#bd3786"
            ],
            [
             0.5555555555555556,
             "#d8576b"
            ],
            [
             0.6666666666666666,
             "#ed7953"
            ],
            [
             0.7777777777777778,
             "#fb9f3a"
            ],
            [
             0.8888888888888888,
             "#fdca26"
            ],
            [
             1,
             "#f0f921"
            ]
           ],
           "sequentialminus": [
            [
             0,
             "#0d0887"
            ],
            [
             0.1111111111111111,
             "#46039f"
            ],
            [
             0.2222222222222222,
             "#7201a8"
            ],
            [
             0.3333333333333333,
             "#9c179e"
            ],
            [
             0.4444444444444444,
             "#bd3786"
            ],
            [
             0.5555555555555556,
             "#d8576b"
            ],
            [
             0.6666666666666666,
             "#ed7953"
            ],
            [
             0.7777777777777778,
             "#fb9f3a"
            ],
            [
             0.8888888888888888,
             "#fdca26"
            ],
            [
             1,
             "#f0f921"
            ]
           ]
          },
          "colorway": [
           "#636efa",
           "#EF553B",
           "#00cc96",
           "#ab63fa",
           "#FFA15A",
           "#19d3f3",
           "#FF6692",
           "#B6E880",
           "#FF97FF",
           "#FECB52"
          ],
          "font": {
           "color": "#2a3f5f"
          },
          "geo": {
           "bgcolor": "white",
           "lakecolor": "white",
           "landcolor": "#E5ECF6",
           "showlakes": true,
           "showland": true,
           "subunitcolor": "white"
          },
          "hoverlabel": {
           "align": "left"
          },
          "hovermode": "closest",
          "mapbox": {
           "style": "light"
          },
          "paper_bgcolor": "white",
          "plot_bgcolor": "#E5ECF6",
          "polar": {
           "angularaxis": {
            "gridcolor": "white",
            "linecolor": "white",
            "ticks": ""
           },
           "bgcolor": "#E5ECF6",
           "radialaxis": {
            "gridcolor": "white",
            "linecolor": "white",
            "ticks": ""
           }
          },
          "scene": {
           "xaxis": {
            "backgroundcolor": "#E5ECF6",
            "gridcolor": "white",
            "gridwidth": 2,
            "linecolor": "white",
            "showbackground": true,
            "ticks": "",
            "zerolinecolor": "white"
           },
           "yaxis": {
            "backgroundcolor": "#E5ECF6",
            "gridcolor": "white",
            "gridwidth": 2,
            "linecolor": "white",
            "showbackground": true,
            "ticks": "",
            "zerolinecolor": "white"
           },
           "zaxis": {
            "backgroundcolor": "#E5ECF6",
            "gridcolor": "white",
            "gridwidth": 2,
            "linecolor": "white",
            "showbackground": true,
            "ticks": "",
            "zerolinecolor": "white"
           }
          },
          "shapedefaults": {
           "line": {
            "color": "#2a3f5f"
           }
          },
          "ternary": {
           "aaxis": {
            "gridcolor": "white",
            "linecolor": "white",
            "ticks": ""
           },
           "baxis": {
            "gridcolor": "white",
            "linecolor": "white",
            "ticks": ""
           },
           "bgcolor": "#E5ECF6",
           "caxis": {
            "gridcolor": "white",
            "linecolor": "white",
            "ticks": ""
           }
          },
          "title": {
           "x": 0.05
          },
          "xaxis": {
           "automargin": true,
           "gridcolor": "white",
           "linecolor": "white",
           "ticks": "",
           "title": {
            "standoff": 15
           },
           "zerolinecolor": "white",
           "zerolinewidth": 2
          },
          "yaxis": {
           "automargin": true,
           "gridcolor": "white",
           "linecolor": "white",
           "ticks": "",
           "title": {
            "standoff": 15
           },
           "zerolinecolor": "white",
           "zerolinewidth": 2
          }
         }
        }
       }
      }
     },
     "metadata": {},
     "output_type": "display_data"
    }
   ],
   "source": [
    "def visualize_3d_scatter(data, x_column, y_column, z_column, color_column):\n",
    "    # Create a 3D scatter plot\n",
    "    fig = px.scatter_3d(data, x=x_column, y=y_column, z=z_column, color=color_column)\n",
    "\n",
    "    # Show the plot\n",
    "    fig.show()\n",
    "\n",
    "# Example usage:\n",
    "# Call the function with your specific DataFrames and columns\n",
    "visualize_3d_scatter(pca_PreparedData_test, 'f1', 'f2', 'f3', 'labels')"
   ]
  },
  {
   "cell_type": "markdown",
   "metadata": {},
   "source": [
    "Visualize in Image data."
   ]
  },
  {
   "cell_type": "code",
   "execution_count": 18,
   "metadata": {},
   "outputs": [
    {
     "data": {
      "image/png": "[encoded data removed]",
      "text/plain": [
       "<Figure size 640x480 with 1 Axes>"
      ]
     },
     "metadata": {},
     "output_type": "display_data"
    }
   ],
   "source": [
    "\n",
    "# Initialize MediaPipe Face Detection and Facial Landmarks models\n",
    "mp_face_mesh = mp.solutions.face_mesh\n",
    "face_mesh = mp_face_mesh.FaceMesh(refine_landmarks=True)\n",
    "\n",
    "# Define the indices of the desired keypoints (0 to 467)\n",
    "cheeks = [234, 132,58,152,288, 361,454]\n",
    "right_iris = [469, 470, 471, 472,469]\n",
    "left_iris = [474, 475, 476, 477,474]\n",
    "forehead = [151, 10]\n",
    "maphai = [ 352, 376, 433]\n",
    "matrai = [123, 147, 213]\n",
    "\n",
    "desired_keypoint_indices = []\n",
    "desired_keypoint_indices.append(cheeks)\n",
    "desired_keypoint_indices.append(right_iris)\n",
    "desired_keypoint_indices.append(left_iris)\n",
    "desired_keypoint_indices.append(maphai)\n",
    "desired_keypoint_indices.append(matrai)\n",
    "desired_keypoint_indices.append(forehead)\n",
    "\n",
    "image = cv2.imread(r'image_10.jpg')\n",
    "rgb_image = cv2.cvtColor(image, cv2.COLOR_BGR2RGB)\n",
    "\n",
    "landmarks = face_mesh.process(rgb_image)\n",
    "\n",
    "# Get the image size\n",
    "ih, iw, _ = image.shape\n",
    "\n",
    "if landmarks.multi_face_landmarks:\n",
    "    for face_landmarks in landmarks.multi_face_landmarks:\n",
    "        # Create a new figure and plot landmarks in a plot coordinate system\n",
    "        plt.figure()\n",
    "        plt.imshow(cv2.cvtColor(image, cv2.COLOR_BGR2RGB))\n",
    "\n",
    "        # Draw circles and lines only at the desired keypoints\n",
    "        keypoints = [(int(landmark.x * iw), int(landmark.y * ih)) for landmark in face_landmarks.landmark]\n",
    "\n",
    "        for indices in desired_keypoint_indices:\n",
    "            keypoints_to_draw = [keypoints[index] for index in indices if index < len(keypoints)]\n",
    "\n",
    "            for cx, cy in keypoints_to_draw:\n",
    "                plt.scatter(cx, cy, s=5, c='g', marker='o')\n",
    "\n",
    "            for i in range(len(keypoints_to_draw) - 1):\n",
    "                x, y = zip(*keypoints_to_draw)\n",
    "                plt.plot(x, y, color='r', linewidth=1)\n",
    "\n",
    "        plt.show()\n",
    "\n",
    "\n",
    "\n",
    "\n",
    "        plt.show()\n",
    "\n",
    "# Close the OpenCV window\n",
    "cv2.destroyAllWindows()"
   ]
  },
  {
   "cell_type": "code",
   "execution_count": 19,
   "metadata": {},
   "outputs": [
    {
     "data": {
      "image/png": "[encoded data removed]",
      "text/plain": [
       "<Figure size 640x480 with 1 Axes>"
      ]
     },
     "metadata": {},
     "output_type": "display_data"
    }
   ],
   "source": [
    "# Initialize MediaPipe Face Detection and Facial Landmarks models\n",
    "mp_face_mesh = mp.solutions.face_mesh\n",
    "face_mesh = mp_face_mesh.FaceMesh(refine_landmarks=True)\n",
    "\n",
    "# Define the indices of the desired keypoints (0 to 467)\n",
    "cheeks = [234, 132, 58, 152, 288, 361, 454]\n",
    "right_iris = [469, 470, 471, 472]\n",
    "left_iris = [474, 475, 476, 477]\n",
    "forehead = [151, 10]\n",
    "maphai = [352, 376, 433]\n",
    "matrai = [123, 147, 213]\n",
    "\n",
    "desired_keypoint_indices = []\n",
    "desired_keypoint_indices.extend(cheeks)\n",
    "desired_keypoint_indices.extend(right_iris)\n",
    "desired_keypoint_indices.extend(left_iris)\n",
    "desired_keypoint_indices.extend(maphai)\n",
    "desired_keypoint_indices.extend(matrai)\n",
    "desired_keypoint_indices.extend(forehead)\n",
    "\n",
    "image = cv2.imread('image_10.jpg')  # Make sure to use the correct image path\n",
    "rgb_image = cv2.cvtColor(image, cv2.COLOR_BGR2RGB)\n",
    "\n",
    "landmarks = face_mesh.process(rgb_image)\n",
    "\n",
    "# Get the image size\n",
    "ih, iw, _ = image.shape\n",
    "\n",
    "if landmarks.multi_face_landmarks:\n",
    "    for face_landmarks in landmarks.multi_face_landmarks:\n",
    "        # Create a new figure and plot landmarks in a plot coordinate system\n",
    "        plt.figure()\n",
    "        plt.imshow(cv2.cvtColor(image, cv2.COLOR_BGR2RGB))\n",
    "\n",
    "        # Draw circles at the desired keypoints\n",
    "        keypoints = [(int(landmark.x * iw), int(landmark.y * ih)) for landmark in face_landmarks.landmark]\n",
    "\n",
    "        for i in range(len(desired_keypoint_indices)):\n",
    "            for j in range(i + 1, len(desired_keypoint_indices)):\n",
    "                index1 = desired_keypoint_indices[i]\n",
    "                index2 = desired_keypoint_indices[j]\n",
    "                if index1 < len(keypoints) and index2 < len(keypoints):\n",
    "                    pt1 = keypoints[index1]\n",
    "                    pt2 = keypoints[index2]\n",
    "                    plt.scatter(pt1[0], pt1[1], s=5, c='g', marker='o')\n",
    "                    plt.scatter(pt2[0], pt2[1], s=5, c='g', marker='o')\n",
    "                    plt.plot([pt1[0], pt2[0]], [pt1[1], pt2[1],], color='r', linewidth=1)\n",
    "\n",
    "        plt.show()\n",
    "\n",
    "# Close the OpenCV window\n",
    "cv2.destroyAllWindows()\n"
   ]
  },
  {
   "cell_type": "markdown",
   "metadata": {},
   "source": [
    "Visualize in 2D."
   ]
  },
  {
   "cell_type": "code",
   "execution_count": 20,
   "metadata": {},
   "outputs": [
    {
     "data": {
      "image/png": "[encoded data removed]",
      "text/plain": [
       "<Figure size 640x480 with 1 Axes>"
      ]
     },
     "metadata": {},
     "output_type": "display_data"
    }
   ],
   "source": [
    "\n",
    "def visualize_keypoints(image_path, desired_keypoint_indices):\n",
    "    # Initialize MediaPipe Face Detection and Facial Landmarks models\n",
    "    mp_face_mesh = mp.solutions.face_mesh\n",
    "    face_mesh = mp_face_mesh.FaceMesh(refine_landmarks=True)\n",
    "\n",
    "    # Load the image\n",
    "    image = cv2.imread(image_path)\n",
    "\n",
    "    # Process landmarks\n",
    "    landmarks = face_mesh.process(image)\n",
    "\n",
    "    if landmarks.multi_face_landmarks:\n",
    "        for face_landmarks in landmarks.multi_face_landmarks:\n",
    "            # Create a new figure for the plot\n",
    "            plt.figure()\n",
    "\n",
    "            # Draw lines and keypoints\n",
    "            for indices in desired_keypoint_indices:\n",
    "                keypoints_to_draw = [(face_landmarks.landmark[index].x, face_landmarks.landmark[index].y) for index in indices]\n",
    "\n",
    "                # Extract x and y coordinates\n",
    "                x, y = zip(*keypoints_to_draw)\n",
    "\n",
    "                # Plot lines\n",
    "                plt.plot(x, y, color='m', linewidth=1)\n",
    "\n",
    "                # Plot keypoints\n",
    "                plt.scatter(x, y, s=10, c='g', marker='o')\n",
    "\n",
    "            # Set the aspect ratio to equal for a square plot\n",
    "            plt.gca().set_aspect('equal', adjustable='box')\n",
    "            plt.show()\n",
    "\n",
    "image_path = r'image_10.jpg'  # Replace with the path to your image\n",
    "desired_keypoint_indices = [\n",
    " [234, 132, 58, 152, 288, 361, 454],\n",
    " [469, 470, 471, 472,469],\n",
    " [474, 475, 476, 477,474],\n",
    " [151, 10],\n",
    " [352, 376, 433],\n",
    " [123, 147, 213]\n",
    "]\n",
    "\n",
    "visualize_keypoints(image_path, desired_keypoint_indices)\n"
   ]
  },
  {
   "cell_type": "markdown",
   "metadata": {},
   "source": [
    "Visual in 3D"
   ]
  },
  {
   "cell_type": "code",
   "execution_count": 21,
   "metadata": {},
   "outputs": [
    {
     "data": {
      "application/vnd.plotly.v1+json": {
       "config": {
        "plotlyServerURL": "https://plot.ly"
       },
       "data": [
        {
         "hovertemplate": "X=%{x}<br>Y=%{y}<br>Z=%{z}<extra></extra>",
         "legendgroup": "",
         "marker": {
          "color": "blue",
          "opacity": 0.7,
          "size": 3,
          "symbol": "circle"
         },
         "mode": "markers",
         "name": "",
         "scene": "scene",
         "showlegend": false,
         "type": "scatter3d",
         "x": [
          0.3785094618797302,
          0.3844999074935913,
          0.39174675941467285,
          0.4945145547389984,
          0.6003033518791199,
          0.6067878007888794,
          0.6101384162902832,
          0.4500964879989624,
          0.4388960003852844,
          0.42878440022468567,
          0.4400234818458557,
          0.4500964879989624,
          0.5603537559509277,
          0.5502866506576538,
          0.5398668050765991,
          0.5500370860099792,
          0.5603537559509277,
          0.5989750623703003,
          0.5975545644760132,
          0.5954594612121582,
          0.3874202370643616,
          0.3901371359825134,
          0.3933054208755493,
          0.49049147963523865,
          0.490115761756897
         ],
         "y": [
          0.48459842801094055,
          0.552410364151001,
          0.588900089263916,
          0.6914490461349487,
          0.5888368487358093,
          0.552615761756897,
          0.48473459482192993,
          0.42734086513519287,
          0.41635602712631226,
          0.42825478315353394,
          0.43922120332717896,
          0.42734086513519287,
          0.42571109533309937,
          0.4129984676837921,
          0.4239262044429779,
          0.43665140867233276,
          0.42571109533309937,
          0.5040695071220398,
          0.5338804125785828,
          0.5595546364784241,
          0.504877507686615,
          0.5348381400108337,
          0.5604184865951538,
          0.3496244549751282,
          0.3185400366783142
         ],
         "z": [
          0.1174909770488739,
          0.11004245281219482,
          0.09755778312683105,
          0.00005238663652562536,
          0.09238806366920471,
          0.1047857254743576,
          0.1117730662226677,
          0.012675649486482143,
          0.012675649486482143,
          0.012675649486482143,
          0.012675649486482143,
          0.012675649486482143,
          0.009470648132264614,
          0.009470648132264614,
          0.009470648132264614,
          0.009470648132264614,
          0.009470648132264614,
          0.03388029709458351,
          0.036369193345308304,
          0.039315346628427505,
          0.04018332436680794,
          0.042520660907030106,
          0.045274242758750916,
          -0.011583834886550903,
          -0.003536543343216181
         ]
        }
       ],
       "layout": {
        "legend": {
         "tracegroupgap": 0
        },
        "margin": {
         "t": 60
        },
        "scene": {
         "domain": {
          "x": [
           0,
           1
          ],
          "y": [
           0,
           1
          ]
         },
         "xaxis": {
          "title": {
           "text": "X"
          }
         },
         "yaxis": {
          "title": {
           "text": "Y"
          }
         },
         "zaxis": {
          "title": {
           "text": "Z"
          }
         }
        },
        "template": {
         "data": {
          "bar": [
           {
            "error_x": {
             "color": "#2a3f5f"
            },
            "error_y": {
             "color": "#2a3f5f"
            },
            "marker": {
             "line": {
              "color": "#E5ECF6",
              "width": 0.5
             },
             "pattern": {
              "fillmode": "overlay",
              "size": 10,
              "solidity": 0.2
             }
            },
            "type": "bar"
           }
          ],
          "barpolar": [
           {
            "marker": {
             "line": {
              "color": "#E5ECF6",
              "width": 0.5
             },
             "pattern": {
              "fillmode": "overlay",
              "size": 10,
              "solidity": 0.2
             }
            },
            "type": "barpolar"
           }
          ],
          "carpet": [
           {
            "aaxis": {
             "endlinecolor": "#2a3f5f",
             "gridcolor": "white",
             "linecolor": "white",
             "minorgridcolor": "white",
             "startlinecolor": "#2a3f5f"
            },
            "baxis": {
             "endlinecolor": "#2a3f5f",
             "gridcolor": "white",
             "linecolor": "white",
             "minorgridcolor": "white",
             "startlinecolor": "#2a3f5f"
            },
            "type": "carpet"
           }
          ],
          "choropleth": [
           {
            "colorbar": {
             "outlinewidth": 0,
             "ticks": ""
            },
            "type": "choropleth"
           }
          ],
          "contour": [
           {
            "colorbar": {
             "outlinewidth": 0,
             "ticks": ""
            },
            "colorscale": [
             [
              0,
              "#0d0887"
             ],
             [
              0.1111111111111111,
              "#46039f"
             ],
             [
              0.2222222222222222,
              "#7201a8"
             ],
             [
              0.3333333333333333,
              "#9c179e"
             ],
             [
              0.4444444444444444,
              "#bd3786"
             ],
             [
              0.5555555555555556,
              "#d8576b"
             ],
             [
              0.6666666666666666,
              "#ed7953"
             ],
             [
              0.7777777777777778,
              "#fb9f3a"
             ],
             [
              0.8888888888888888,
              "#fdca26"
             ],
             [
              1,
              "#f0f921"
             ]
            ],
            "type": "contour"
           }
          ],
          "contourcarpet": [
           {
            "colorbar": {
             "outlinewidth": 0,
             "ticks": ""
            },
            "type": "contourcarpet"
           }
          ],
          "heatmap": [
           {
            "colorbar": {
             "outlinewidth": 0,
             "ticks": ""
            },
            "colorscale": [
             [
              0,
              "#0d0887"
             ],
             [
              0.1111111111111111,
              "#46039f"
             ],
             [
              0.2222222222222222,
              "#7201a8"
             ],
             [
              0.3333333333333333,
              "#9c179e"
             ],
             [
              0.4444444444444444,
              "#bd3786"
             ],
             [
              0.5555555555555556,
              "#d8576b"
             ],
             [
              0.6666666666666666,
              "#ed7953"
             ],
             [
              0.7777777777777778,
              "#fb9f3a"
             ],
             [
              0.8888888888888888,
              "#fdca26"
             ],
             [
              1,
              "#f0f921"
             ]
            ],
            "type": "heatmap"
           }
          ],
          "heatmapgl": [
           {
            "colorbar": {
             "outlinewidth": 0,
             "ticks": ""
            },
            "colorscale": [
             [
              0,
              "#0d0887"
             ],
             [
              0.1111111111111111,
              "#46039f"
             ],
             [
              0.2222222222222222,
              "#7201a8"
             ],
             [
              0.3333333333333333,
              "#9c179e"
             ],
             [
              0.4444444444444444,
              "#bd3786"
             ],
             [
              0.5555555555555556,
              "#d8576b"
             ],
             [
              0.6666666666666666,
              "#ed7953"
             ],
             [
              0.7777777777777778,
              "#fb9f3a"
             ],
             [
              0.8888888888888888,
              "#fdca26"
             ],
             [
              1,
              "#f0f921"
             ]
            ],
            "type": "heatmapgl"
           }
          ],
          "histogram": [
           {
            "marker": {
             "pattern": {
              "fillmode": "overlay",
              "size": 10,
              "solidity": 0.2
             }
            },
            "type": "histogram"
           }
          ],
          "histogram2d": [
           {
            "colorbar": {
             "outlinewidth": 0,
             "ticks": ""
            },
            "colorscale": [
             [
              0,
              "#0d0887"
             ],
             [
              0.1111111111111111,
              "#46039f"
             ],
             [
              0.2222222222222222,
              "#7201a8"
             ],
             [
              0.3333333333333333,
              "#9c179e"
             ],
             [
              0.4444444444444444,
              "#bd3786"
             ],
             [
              0.5555555555555556,
              "#d8576b"
             ],
             [
              0.6666666666666666,
              "#ed7953"
             ],
             [
              0.7777777777777778,
              "#fb9f3a"
             ],
             [
              0.8888888888888888,
              "#fdca26"
             ],
             [
              1,
              "#f0f921"
             ]
            ],
            "type": "histogram2d"
           }
          ],
          "histogram2dcontour": [
           {
            "colorbar": {
             "outlinewidth": 0,
             "ticks": ""
            },
            "colorscale": [
             [
              0,
              "#0d0887"
             ],
             [
              0.1111111111111111,
              "#46039f"
             ],
             [
              0.2222222222222222,
              "#7201a8"
             ],
             [
              0.3333333333333333,
              "#9c179e"
             ],
             [
              0.4444444444444444,
              "#bd3786"
             ],
             [
              0.5555555555555556,
              "#d8576b"
             ],
             [
              0.6666666666666666,
              "#ed7953"
             ],
             [
              0.7777777777777778,
              "#fb9f3a"
             ],
             [
              0.8888888888888888,
              "#fdca26"
             ],
             [
              1,
              "#f0f921"
             ]
            ],
            "type": "histogram2dcontour"
           }
          ],
          "mesh3d": [
           {
            "colorbar": {
             "outlinewidth": 0,
             "ticks": ""
            },
            "type": "mesh3d"
           }
          ],
          "parcoords": [
           {
            "line": {
             "colorbar": {
              "outlinewidth": 0,
              "ticks": ""
             }
            },
            "type": "parcoords"
           }
          ],
          "pie": [
           {
            "automargin": true,
            "type": "pie"
           }
          ],
          "scatter": [
           {
            "fillpattern": {
             "fillmode": "overlay",
             "size": 10,
             "solidity": 0.2
            },
            "type": "scatter"
           }
          ],
          "scatter3d": [
           {
            "line": {
             "colorbar": {
              "outlinewidth": 0,
              "ticks": ""
             }
            },
            "marker": {
             "colorbar": {
              "outlinewidth": 0,
              "ticks": ""
             }
            },
            "type": "scatter3d"
           }
          ],
          "scattercarpet": [
           {
            "marker": {
             "colorbar": {
              "outlinewidth": 0,
              "ticks": ""
             }
            },
            "type": "scattercarpet"
           }
          ],
          "scattergeo": [
           {
            "marker": {
             "colorbar": {
              "outlinewidth": 0,
              "ticks": ""
             }
            },
            "type": "scattergeo"
           }
          ],
          "scattergl": [
           {
            "marker": {
             "colorbar": {
              "outlinewidth": 0,
              "ticks": ""
             }
            },
            "type": "scattergl"
           }
          ],
          "scattermapbox": [
           {
            "marker": {
             "colorbar": {
              "outlinewidth": 0,
              "ticks": ""
             }
            },
            "type": "scattermapbox"
           }
          ],
          "scatterpolar": [
           {
            "marker": {
             "colorbar": {
              "outlinewidth": 0,
              "ticks": ""
             }
            },
            "type": "scatterpolar"
           }
          ],
          "scatterpolargl": [
           {
            "marker": {
             "colorbar": {
              "outlinewidth": 0,
              "ticks": ""
             }
            },
            "type": "scatterpolargl"
           }
          ],
          "scatterternary": [
           {
            "marker": {
             "colorbar": {
              "outlinewidth": 0,
              "ticks": ""
             }
            },
            "type": "scatterternary"
           }
          ],
          "surface": [
           {
            "colorbar": {
             "outlinewidth": 0,
             "ticks": ""
            },
            "colorscale": [
             [
              0,
              "#0d0887"
             ],
             [
              0.1111111111111111,
              "#46039f"
             ],
             [
              0.2222222222222222,
              "#7201a8"
             ],
             [
              0.3333333333333333,
              "#9c179e"
             ],
             [
              0.4444444444444444,
              "#bd3786"
             ],
             [
              0.5555555555555556,
              "#d8576b"
             ],
             [
              0.6666666666666666,
              "#ed7953"
             ],
             [
              0.7777777777777778,
              "#fb9f3a"
             ],
             [
              0.8888888888888888,
              "#fdca26"
             ],
             [
              1,
              "#f0f921"
             ]
            ],
            "type": "surface"
           }
          ],
          "table": [
           {
            "cells": {
             "fill": {
              "color": "#EBF0F8"
             },
             "line": {
              "color": "white"
             }
            },
            "header": {
             "fill": {
              "color": "#C8D4E3"
             },
             "line": {
              "color": "white"
             }
            },
            "type": "table"
           }
          ]
         },
         "layout": {
          "annotationdefaults": {
           "arrowcolor": "#2a3f5f",
           "arrowhead": 0,
           "arrowwidth": 1
          },
          "autotypenumbers": "strict",
          "coloraxis": {
           "colorbar": {
            "outlinewidth": 0,
            "ticks": ""
           }
          },
          "colorscale": {
           "diverging": [
            [
             0,
             "#8e0152"
            ],
            [
             0.1,
             "#c51b7d"
            ],
            [
             0.2,
             "#de77ae"
            ],
            [
             0.3,
             "#f1b6da"
            ],
            [
             0.4,
             "#fde0ef"
            ],
            [
             0.5,
             "#f7f7f7"
            ],
            [
             0.6,
             "#e6f5d0"
            ],
            [
             0.7,
             "#b8e186"
            ],
            [
             0.8,
             "#7fbc41"
            ],
            [
             0.9,
             "#4d9221"
            ],
            [
             1,
             "#276419"
            ]
           ],
           "sequential": [
            [
             0,
             "#0d0887"
            ],
            [
             0.1111111111111111,
             "#46039f"
            ],
            [
             0.2222222222222222,
             "#7201a8"
            ],
            [
             0.3333333333333333,
             "#9c179e"
            ],
            [
             0.4444444444444444,
             "#bd3786"
            ],
            [
             0.5555555555555556,
             "#d8576b"
            ],
            [
             0.6666666666666666,
             "#ed7953"
            ],
            [
             0.7777777777777778,
             "#fb9f3a"
            ],
            [
             0.8888888888888888,
             "#fdca26"
            ],
            [
             1,
             "#f0f921"
            ]
           ],
           "sequentialminus": [
            [
             0,
             "#0d0887"
            ],
            [
             0.1111111111111111,
             "#46039f"
            ],
            [
             0.2222222222222222,
             "#7201a8"
            ],
            [
             0.3333333333333333,
             "#9c179e"
            ],
            [
             0.4444444444444444,
             "#bd3786"
            ],
            [
             0.5555555555555556,
             "#d8576b"
            ],
            [
             0.6666666666666666,
             "#ed7953"
            ],
            [
             0.7777777777777778,
             "#fb9f3a"
            ],
            [
             0.8888888888888888,
             "#fdca26"
            ],
            [
             1,
             "#f0f921"
            ]
           ]
          },
          "colorway": [
           "#636efa",
           "#EF553B",
           "#00cc96",
           "#ab63fa",
           "#FFA15A",
           "#19d3f3",
           "#FF6692",
           "#B6E880",
           "#FF97FF",
           "#FECB52"
          ],
          "font": {
           "color": "#2a3f5f"
          },
          "geo": {
           "bgcolor": "white",
           "lakecolor": "white",
           "landcolor": "#E5ECF6",
           "showlakes": true,
           "showland": true,
           "subunitcolor": "white"
          },
          "hoverlabel": {
           "align": "left"
          },
          "hovermode": "closest",
          "mapbox": {
           "style": "light"
          },
          "paper_bgcolor": "white",
          "plot_bgcolor": "#E5ECF6",
          "polar": {
           "angularaxis": {
            "gridcolor": "white",
            "linecolor": "white",
            "ticks": ""
           },
           "bgcolor": "#E5ECF6",
           "radialaxis": {
            "gridcolor": "white",
            "linecolor": "white",
            "ticks": ""
           }
          },
          "scene": {
           "xaxis": {
            "backgroundcolor": "#E5ECF6",
            "gridcolor": "white",
            "gridwidth": 2,
            "linecolor": "white",
            "showbackground": true,
            "ticks": "",
            "zerolinecolor": "white"
           },
           "yaxis": {
            "backgroundcolor": "#E5ECF6",
            "gridcolor": "white",
            "gridwidth": 2,
            "linecolor": "white",
            "showbackground": true,
            "ticks": "",
            "zerolinecolor": "white"
           },
           "zaxis": {
            "backgroundcolor": "#E5ECF6",
            "gridcolor": "white",
            "gridwidth": 2,
            "linecolor": "white",
            "showbackground": true,
            "ticks": "",
            "zerolinecolor": "white"
           }
          },
          "shapedefaults": {
           "line": {
            "color": "#2a3f5f"
           }
          },
          "ternary": {
           "aaxis": {
            "gridcolor": "white",
            "linecolor": "white",
            "ticks": ""
           },
           "baxis": {
            "gridcolor": "white",
            "linecolor": "white",
            "ticks": ""
           },
           "bgcolor": "#E5ECF6",
           "caxis": {
            "gridcolor": "white",
            "linecolor": "white",
            "ticks": ""
           }
          },
          "title": {
           "x": 0.05
          },
          "xaxis": {
           "automargin": true,
           "gridcolor": "white",
           "linecolor": "white",
           "ticks": "",
           "title": {
            "standoff": 15
           },
           "zerolinecolor": "white",
           "zerolinewidth": 2
          },
          "yaxis": {
           "automargin": true,
           "gridcolor": "white",
           "linecolor": "white",
           "ticks": "",
           "title": {
            "standoff": 15
           },
           "zerolinecolor": "white",
           "zerolinewidth": 2
          }
         }
        }
       }
      }
     },
     "metadata": {},
     "output_type": "display_data"
    }
   ],
   "source": [
    "\n",
    "\n",
    "def visualize_face_landmarks_3d(image_path):\n",
    "    # Initialize MediaPipe Face Detection and Facial Landmarks models\n",
    "    mp_face_mesh = mp.solutions.face_mesh\n",
    "    face_mesh = mp_face_mesh.FaceMesh(refine_landmarks=True)\n",
    "\n",
    "# Define the indices of the desired keypoints (0 to 467)\n",
    "    cheeks = [234, 132,58,152,288, 361,454]\n",
    "    right_iris = [469, 470, 471, 472,469]\n",
    "    left_iris = [474, 475, 476, 477,474]\n",
    "    forehead = [151, 10]\n",
    "    maphai = [ 352, 376, 433]\n",
    "    matrai = [123, 147, 213]\n",
    "\n",
    "    desired_keypoint_indices = []\n",
    "    desired_keypoint_indices.append(cheeks)\n",
    "    desired_keypoint_indices.append(right_iris)\n",
    "    desired_keypoint_indices.append(left_iris)\n",
    "    desired_keypoint_indices.append(maphai)\n",
    "    desired_keypoint_indices.append(matrai)\n",
    "    desired_keypoint_indices.append(forehead)\n",
    "    image = cv2.imread(image_path)\n",
    "\n",
    "    # Process landmarks\n",
    "    landmarks = face_mesh.process(image)\n",
    "\n",
    "    if landmarks.multi_face_landmarks:\n",
    "        # Create empty lists to store the 3D coordinates\n",
    "        x, y, z = [], [], []\n",
    "\n",
    "        for face_landmarks in landmarks.multi_face_landmarks:\n",
    "            for indices in desired_keypoint_indices:\n",
    "                for index in indices:\n",
    "                    landmark = face_landmarks.landmark[index]\n",
    "                    x.append(landmark.x)\n",
    "                    y.append(landmark.y)\n",
    "                    z.append(landmark.z)\n",
    "\n",
    "        # Create a DataFrame from the coordinates\n",
    "        df = pd.DataFrame({'X': x, 'Y': y, 'Z': z})\n",
    "\n",
    "        # Create a 3D scatter plot using Plotly Express with smaller keypoint markers\n",
    "        fig = px.scatter_3d(df, x='X', y='Y', z='Z', labels={'X': 'X', 'Y': 'Y', 'Z': 'Z'},\n",
    "                            color_discrete_sequence=['blue'], opacity=0.7, size_max=1.5)\n",
    "        fig.update_traces(marker=dict(size=3))  # Adjust the marker size here\n",
    "        fig.show()\n",
    "\n",
    "# Example usage:\n",
    "image_path = r'image_10.jpg'  # Replace with the path to your image\n",
    "visualize_face_landmarks_3d(image_path)\n"
   ]
  },
  {
   "cell_type": "markdown",
   "metadata": {},
   "source": [
    "Visual all keypoints FaceMesh in 3D."
   ]
  },
  {
   "cell_type": "code",
   "execution_count": 22,
   "metadata": {},
   "outputs": [
    {
     "data": {
      "application/vnd.plotly.v1+json": {
       "config": {
        "plotlyServerURL": "https://plot.ly"
       },
       "data": [
        {
         "hovertemplate": "X=%{x}<br>Y=%{y}<br>Z=%{z}<br>index=%{marker.color}<extra></extra>",
         "legendgroup": "",
         "marker": {
          "color": [
           0,
           1,
           2,
           3,
           4,
           5,
           6,
           7,
           8,
           9,
           10,
           11,
           12,
           13,
           14,
           15,
           16,
           17,
           18,
           19,
           20,
           21,
           22,
           23,
           24,
           25,
           26,
           27,
           28,
           29,
           30,
           31,
           32,
           33,
           34,
           35,
           36,
           37,
           38,
           39,
           40,
           41,
           42,
           43,
           44,
           45,
           46,
           47,
           48,
           49,
           50,
           51,
           52,
           53,
           54,
           55,
           56,
           57,
           58,
           59,
           60,
           61,
           62,
           63,
           64,
           65,
           66,
           67,
           68,
           69,
           70,
           71,
           72,
           73,
           74,
           75,
           76,
           77,
           78,
           79,
           80,
           81,
           82,
           83,
           84,
           85,
           86,
           87,
           88,
           89,
           90,
           91,
           92,
           93,
           94,
           95,
           96,
           97,
           98,
           99,
           100,
           101,
           102,
           103,
           104,
           105,
           106,
           107,
           108,
           109,
           110,
           111,
           112,
           113,
           114,
           115,
           116,
           117,
           118,
           119,
           120,
           121,
           122,
           123,
           124,
           125,
           126,
           127,
           128,
           129,
           130,
           131,
           132,
           133,
           134,
           135,
           136,
           137,
           138,
           139,
           140,
           141,
           142,
           143,
           144,
           145,
           146,
           147,
           148,
           149,
           150,
           151,
           152,
           153,
           154,
           155,
           156,
           157,
           158,
           159,
           160,
           161,
           162,
           163,
           164,
           165,
           166,
           167,
           168,
           169,
           170,
           171,
           172,
           173,
           174,
           175,
           176,
           177,
           178,
           179,
           180,
           181,
           182,
           183,
           184,
           185,
           186,
           187,
           188,
           189,
           190,
           191,
           192,
           193,
           194,
           195,
           196,
           197,
           198,
           199,
           200,
           201,
           202,
           203,
           204,
           205,
           206,
           207,
           208,
           209,
           210,
           211,
           212,
           213,
           214,
           215,
           216,
           217,
           218,
           219,
           220,
           221,
           222,
           223,
           224,
           225,
           226,
           227,
           228,
           229,
           230,
           231,
           232,
           233,
           234,
           235,
           236,
           237,
           238,
           239,
           240,
           241,
           242,
           243,
           244,
           245,
           246,
           247,
           248,
           249,
           250,
           251,
           252,
           253,
           254,
           255,
           256,
           257,
           258,
           259,
           260,
           261,
           262,
           263,
           264,
           265,
           266,
           267,
           268,
           269,
           270,
           271,
           272,
           273,
           274,
           275,
           276,
           277,
           278,
           279,
           280,
           281,
           282,
           283,
           284,
           285,
           286,
           287,
           288,
           289,
           290,
           291,
           292,
           293,
           294,
           295,
           296,
           297,
           298,
           299,
           300,
           301,
           302,
           303,
           304,
           305,
           306,
           307,
           308,
           309,
           310,
           311,
           312,
           313,
           314,
           315,
           316,
           317,
           318,
           319,
           320,
           321,
           322,
           323,
           324,
           325,
           326,
           327,
           328,
           329,
           330,
           331,
           332,
           333,
           334,
           335,
           336,
           337,
           338,
           339,
           340,
           341,
           342,
           343,
           344,
           345,
           346,
           347,
           348,
           349,
           350,
           351,
           352,
           353,
           354,
           355,
           356,
           357,
           358,
           359,
           360,
           361,
           362,
           363,
           364,
           365,
           366,
           367,
           368,
           369,
           370,
           371,
           372,
           373,
           374,
           375,
           376,
           377,
           378,
           379,
           380,
           381,
           382,
           383,
           384,
           385,
           386,
           387,
           388,
           389,
           390,
           391,
           392,
           393,
           394,
           395,
           396,
           397,
           398,
           399,
           400,
           401,
           402,
           403,
           404,
           405,
           406,
           407,
           408,
           409,
           410,
           411,
           412,
           413,
           414,
           415,
           416,
           417,
           418,
           419,
           420,
           421,
           422,
           423,
           424,
           425,
           426,
           427,
           428,
           429,
           430,
           431,
           432,
           433,
           434,
           435,
           436,
           437,
           438,
           439,
           440,
           441,
           442,
           443,
           444,
           445,
           446,
           447,
           448,
           449,
           450,
           451,
           452,
           453,
           454,
           455,
           456,
           457,
           458,
           459,
           460,
           461,
           462,
           463,
           464,
           465,
           466,
           467
          ],
          "coloraxis": "coloraxis",
          "size": 2,
          "symbol": "circle"
         },
         "mode": "markers",
         "name": "",
         "scene": "scene",
         "showlegend": false,
         "type": "scatter3d",
         "x": [
          0.4937903583049774,
          0.49233531951904297,
          0.49320268630981445,
          0.4827273488044739,
          0.49203038215637207,
          0.4918561577796936,
          0.49190810322761536,
          0.41717374324798584,
          0.49134185910224915,
          0.49094730615615845,
          0.48860856890678406,
          0.49393925070762634,
          0.49416399002075195,
          0.4943385720252991,
          0.49496638774871826,
          0.495143860578537,
          0.4952731728553772,
          0.49546489119529724,
          0.4958416223526001,
          0.492613285779953,
          0.4826745390892029,
          0.381698340177536,
          0.44817230105400085,
          0.43770137429237366,
          0.4274871349334717,
          0.4139159619808197,
          0.4569350481033325,
          0.43259453773498535,
          0.44388240575790405,
          0.4220890998840332,
          0.41525113582611084,
          0.40643900632858276,
          0.45476752519607544,
          0.4133121967315674,
          0.37849754095077515,
          0.39504989981651306,
          0.4405834972858429,
          0.48019829392433167,
          0.4828127920627594,
          0.46665388345718384,
          0.45808959007263184,
          0.47284579277038574,
          0.46503788232803345,
          0.444648414850235,
          0.4831377863883972,
          0.48128741979599,
          0.39935988187789917,
          0.46120786666870117,
          0.4585627317428589,
          0.4579475522041321,
          0.41075804829597473,
          0.48183688521385193,
          0.42250826954841614,
          0.408603310585022,
          0.3901100754737854,
          0.46896088123321533,
          0.4539949595928192,
          0.43625006079673767,
          0.3899098038673401,
          0.4665413200855255,
          0.4755057692527771,
          0.4480467438697815,
          0.4528655409812927,
          0.4027394950389862,
          0.4584333598613739,
          0.4420769512653351,
          0.4396499693393707,
          0.4296278953552246,
          0.39642101526260376,
          0.43554922938346863,
          0.3934442400932312,
          0.3876785635948181,
          0.48131316900253296,
          0.4702316224575043,
          0.4616833031177521,
          0.46934857964515686,
          0.4506292939186096,
          0.4553125202655792,
          0.4540084898471832,
          0.4722115695476532,
          0.4670884311199188,
          0.4750325083732605,
          0.4843100607395172,
          0.4810701608657837,
          0.4815957844257355,
          0.4821183383464813,
          0.48290249705314636,
          0.483797550201416,
          0.4653090834617615,
          0.46370163559913635,
          0.4615139365196228,
          0.4594273269176483,
          0.4488259553909302,
          0.3800802528858185,
          0.49296441674232483,
          0.45993858575820923,
          0.4578431248664856,
          0.4792512059211731,
          0.4625661373138428,
          0.47735413908958435,
          0.450612336397171,
          0.4339606761932373,
          0.4565827548503876,
          0.40509551763534546,
          0.41141149401664734,
          0.4183098077774048,
          0.45422491431236267,
          0.4649396240711212,
          0.461014986038208,
          0.45657598972320557,
          0.41891351342201233,
          0.39611008763313293,
          0.4623624384403229,
          0.40481650829315186,
          0.46829167008399963,
          0.4649549126625061,
          0.3857530951499939,
          0.4030092656612396,
          0.4160500168800354,
          0.43564778566360474,
          0.45011410117149353,
          0.4608263671398163,
          0.481803297996521,
          0.38771626353263855,
          0.3965960741043091,
          0.4870999753475189,
          0.4620019495487213,
          0.37681853771209717,
          0.46878671646118164,
          0.4559042453765869,
          0.4103890657424927,
          0.46452435851097107,
          0.3829726278781891,
          0.46200814843177795,
          0.47293761372566223,
          0.40946435928344727,
          0.4110356867313385,
          0.3790201246738434,
          0.39772334694862366,
          0.38293930888175964,
          0.45230382680892944,
          0.48855963349342346,
          0.4529053568840027,
          0.38698387145996094,
          0.4279845058917999,
          0.437259316444397,
          0.4527159333229065,
          0.39006859064102173,
          0.47302430868148804,
          0.43964332342147827,
          0.4259628653526306,
          0.48968055844306946,
          0.4972594380378723,
          0.44618305563926697,
          0.4544403851032257,
          0.4595645070075989,
          0.38981813192367554,
          0.45274364948272705,
          0.4435170292854309,
          0.4342583119869232,
          0.4249085783958435,
          0.41901206970214844,
          0.3775545060634613,
          0.4215993881225586,
          0.4934561252593994,
          0.45794641971588135,
          0.46634766459465027,
          0.47843271493911743,
          0.4917345643043518,
          0.42279374599456787,
          0.43680721521377563,
          0.47228264808654785,
          0.3998529314994812,
          0.45912837982177734,
          0.4749232828617096,
          0.4970104694366455,
          0.45473334193229675,
          0.3823249936103821,
          0.4737231135368347,
          0.4721657931804657,
          0.47071507573127747,
          0.4694192409515381,
          0.46616119146347046,
          0.4578893482685089,
          0.45460525155067444,
          0.4514673948287964,
          0.4408190846443176,
          0.4034954905509949,
          0.4752162992954254,
          0.47011706233024597,
          0.4636633098125458,
          0.46017956733703613,
          0.4018474221229553,
          0.4785526692867279,
          0.46033865213394165,
          0.49192532896995544,
          0.4819147288799286,
          0.49199360609054565,
          0.4679186940193176,
          0.4966704249382019,
          0.496314138174057,
          0.47784045338630676,
          0.4344092607498169,
          0.44753578305244446,
          0.4460669159889221,
          0.424883097410202,
          0.4383853077888489,
          0.41630321741104126,
          0.4739625155925751,
          0.4618511199951172,
          0.4255812466144562,
          0.4398912191390991,
          0.4258265495300293,
          0.3926713764667511,
          0.4134705662727356,
          0.38768506050109863,
          0.4301319420337677,
          0.4686340391635895,
          0.46855780482292175,
          0.4618034064769745,
          0.4723952114582062,
          0.461212694644928,
          0.4436682462692261,
          0.42872267961502075,
          0.41657328605651855,
          0.4085392355918884,
          0.40390902757644653,
          0.3773162066936493,
          0.4120219945907593,
          0.42263850569725037,
          0.43630415201187134,
          0.44949281215667725,
          0.4596378803253174,
          0.46654126048088074,
          0.37869903445243835,
          0.4623447060585022,
          0.474720299243927,
          0.4756872057914734,
          0.4820369780063629,
          0.47615039348602295,
          0.46564117074012756,
          0.4838772714138031,
          0.4850984811782837,
          0.46586525440216064,
          0.4719168543815613,
          0.474873811006546,
          0.4158058762550354,
          0.4105185270309448,
          0.5014695525169373,
          0.5699788928031921,
          0.5033161640167236,
          0.6038758754730225,
          0.5388913154602051,
          0.5495465993881226,
          0.559782862663269,
          0.5734233260154724,
          0.53008633852005,
          0.552331805229187,
          0.5410841703414917,
          0.5629987716674805,
          0.5704290866851807,
          0.5811187624931335,
          0.5387393236160278,
          0.5739078521728516,
          0.6107354760169983,
          0.5923345685005188,
          0.5471834540367126,
          0.5075234174728394,
          0.5058433413505554,
          0.5218583345413208,
          0.5308755040168762,
          0.5162191987037659,
          0.5243270397186279,
          0.5460751056671143,
          0.5017487406730652,
          0.5029100775718689,
          0.5853139162063599,
          0.5251283049583435,
          0.5275086164474487,
          0.5281641483306885,
          0.5782147645950317,
          0.5021359324455261,
          0.5605870485305786,
          0.5750519037246704,
          0.5930057764053345,
          0.5143378376960754,
          0.5313336849212646,
          0.5539103746414185,
          0.6058932542800903,
          0.5197915434837341,
          0.5111407041549683,
          0.5416760444641113,
          0.5369642972946167,
          0.5804181098937988,
          0.5280547738075256,
          0.5409066081047058,
          0.5426384806632996,
          0.5493708252906799,
          0.5868029594421387,
          0.5449600219726562,
          0.5910614728927612,
          0.5974703431129456,
          0.5068750381469727,
          0.5185918807983398,
          0.5275217294692993,
          0.5172016620635986,
          0.5391354560852051,
          0.5345494151115417,
          0.5359779000282288,
          0.5135781168937683,
          0.5223866701126099,
          0.5141611099243164,
          0.5046896934509277,
          0.5107542872428894,
          0.509406566619873,
          0.5084769129753113,
          0.5072898268699646,
          0.506264865398407,
          0.5247310996055603,
          0.5262611508369446,
          0.5286199450492859,
          0.530996561050415,
          0.5400971174240112,
          0.6131613254547119,
          0.5300714373588562,
          0.5321145057678223,
          0.5074038505554199,
          0.5245282649993896,
          0.5092319846153259,
          0.5362515449523926,
          0.5536088943481445,
          0.5300131440162659,
          0.5757600665092468,
          0.5700893402099609,
          0.5640713572502136,
          0.537087082862854,
          0.517261266708374,
          0.5190167427062988,
          0.5212763547897339,
          0.5685368180274963,
          0.5919599533081055,
          0.524577796459198,
          0.5812820792198181,
          0.5175984501838684,
          0.5205356478691101,
          0.6033097505569458,
          0.5849902629852295,
          0.5715824961662292,
          0.5515835285186768,
          0.5367562174797058,
          0.5256507992744446,
          0.5026528239250183,
          0.6024695038795471,
          0.5895223021507263,
          0.49823498725891113,
          0.5243459343910217,
          0.6132361888885498,
          0.5172717571258545,
          0.5309484601020813,
          0.576620876789093,
          0.5209488868713379,
          0.6116684675216675,
          0.525000274181366,
          0.5117930769920349,
          0.584862470626831,
          0.5849028825759888,
          0.6128938794136047,
          0.5968084335327148,
          0.6041756272315979,
          0.5418514013290405,
          0.4973068833351135,
          0.5340825319290161,
          0.6009927988052368,
          0.5591148138046265,
          0.5497350096702576,
          0.5374130010604858,
          0.6015021800994873,
          0.5214583277702332,
          0.5554988384246826,
          0.5695036053657532,
          0.5408139824867249,
          0.5325788259506226,
          0.5274184942245483,
          0.5965308547019958,
          0.5340975522994995,
          0.5433017015457153,
          0.5525099635124207,
          0.5620779395103455,
          0.5680387020111084,
          0.6101904511451721,
          0.5655453205108643,
          0.5301644802093506,
          0.5198845267295837,
          0.5088549256324768,
          0.5713002681732178,
          0.5573927164077759,
          0.5218375325202942,
          0.5963637828826904,
          0.5278587341308594,
          0.510145902633667,
          0.5400687456130981,
          0.6109600067138672,
          0.5162884593009949,
          0.5179035663604736,
          0.5197356939315796,
          0.5214748978614807,
          0.5256063938140869,
          0.5318229794502258,
          0.5347526669502258,
          0.5379061102867126,
          0.5486737489700317,
          0.58742356300354,
          0.5099354386329651,
          0.5152792930603027,
          0.5224142074584961,
          0.5294804573059082,
          0.5908132195472717,
          0.50570148229599,
          0.5323811173439026,
          0.5023286938667297,
          0.5176701545715332,
          0.5149303674697876,
          0.5572496056556702,
          0.5403099656105042,
          0.546238362789154,
          0.5643177628517151,
          0.5505654811859131,
          0.5741567015647888,
          0.5194975137710571,
          0.5243282318115234,
          0.5671103596687317,
          0.5532940030097961,
          0.5652463436126709,
          0.5999096632003784,
          0.5787960290908813,
          0.6066210269927979,
          0.5596263408660889,
          0.5170611143112183,
          0.5171056985855103,
          0.5243260860443115,
          0.5124419331550598,
          0.5234980583190918,
          0.5405178666114807,
          0.5552839636802673,
          0.5678386092185974,
          0.5766789317131042,
          0.5832459330558777,
          0.6132099032402039,
          0.5755884647369385,
          0.5647928714752197,
          0.5508787035942078,
          0.5375519394874573,
          0.5272099375724792,
          0.520054280757904,
          0.61307293176651,
          0.5240961313247681,
          0.5100505352020264,
          0.5094178915023804,
          0.5036371946334839,
          0.5093563795089722,
          0.5212409496307373,
          0.5016627907752991,
          0.5008737444877625,
          0.5208216309547424,
          0.5141655802726746,
          0.5106789469718933,
          0.5713537931442261,
          0.5757980942726135
         ],
         "y": [
          0.5720301270484924,
          0.517629861831665,
          0.5352917909622192,
          0.46771949529647827,
          0.5017006397247314,
          0.4815319776535034,
          0.4345243275165558,
          0.4347897171974182,
          0.39959800243377686,
          0.38054850697517395,
          0.32148998975753784,
          0.5796325206756592,
          0.585175633430481,
          0.5874688625335693,
          0.5891019701957703,
          0.5950384736061096,
          0.6027216911315918,
          0.6111953258514404,
          0.6269920468330383,
          0.5262481570243835,
          0.5257938504219055,
          0.3898732662200928,
          0.446521520614624,
          0.44801294803619385,
          0.44811341166496277,
          0.4409771263599396,
          0.44233453273773193,
          0.4104180634021759,
          0.4110124707221985,
          0.4130653738975525,
          0.41851580142974854,
          0.4518352746963501,
          0.6510124206542969,
          0.43149155378341675,
          0.4495336413383484,
          0.4429433345794678,
          0.5085480809211731,
          0.5696114301681519,
          0.5852597951889038,
          0.5746984481811523,
          0.5809171199798584,
          0.5862019062042236,
          0.5878395438194275,
          0.6029951572418213,
          0.5172874331474304,
          0.5020585060119629,
          0.4043845236301422,
          0.4701344966888428,
          0.5151916742324829,
          0.5073583722114563,
          0.508291482925415,
          0.48339205980300903,
          0.3860500752925873,
          0.39253801107406616,
          0.3636283874511719,
          0.3957955241203308,
          0.4153379797935486,
          0.5892615914344788,
          0.5861749053001404,
          0.5236338973045349,
          0.5283671617507935,
          0.5902663469314575,
          0.5893010497093201,
          0.38403722643852234,
          0.5224743485450745,
          0.38574841618537903,
          0.3744097352027893,
          0.3290711045265198,
          0.3734287917613983,
          0.3511006832122803,
          0.39931219816207886,
          0.3954669237136841,
          0.5788249373435974,
          0.5818697214126587,
          0.5847169160842896,
          0.5266090035438538,
          0.5900189876556396,
          0.5918705463409424,
          0.5884135365486145,
          0.51764976978302,
          0.5870612263679504,
          0.5870121717453003,
          0.587272047996521,
          0.6265541911125183,
          0.610190212726593,
          0.6013318300247192,
          0.5938832759857178,
          0.588904082775116,
          0.5887701511383057,
          0.5906092524528503,
          0.5944651365280151,
          0.5995362401008606,
          0.5632126331329346,
          0.5152039527893066,
          0.5301171541213989,
          0.589037299156189,
          0.5899287462234497,
          0.5356162786483765,
          0.5321663022041321,
          0.5322155356407166,
          0.4795434772968292,
          0.49009713530540466,
          0.5145559906959534,
          0.34268078207969666,
          0.35799330472946167,
          0.375329852104187,
          0.6122242212295532,
          0.3771926760673523,
          0.3505450487136841,
          0.3231627345085144,
          0.44599372148513794,
          0.4632704555988312,
          0.4381704330444336,
          0.42377936840057373,
          0.4597237706184387,
          0.5086972117424011,
          0.4742209315299988,
          0.472825825214386,
          0.4774106740951538,
          0.47390463948249817,
          0.4669783413410187,
          0.4593394696712494,
          0.43860650062561035,
          0.5045832991600037,
          0.4222591519355774,
          0.5255465507507324,
          0.4846881031990051,
          0.4514533281326294,
          0.450855016708374,
          0.5160647034645081,
          0.4331355094909668,
          0.4993334114551544,
          0.5499334931373596,
          0.4327233135700226,
          0.48953819274902344,
          0.6184965968132019,
          0.6361441612243652,
          0.5102618336677551,
          0.5988911390304565,
          0.42058607935905457,
          0.6670413017272949,
          0.5294930934906006,
          0.49644821882247925,
          0.4468827247619629,
          0.4388100504875183,
          0.4396716058254242,
          0.5948078036308289,
          0.5339263677597046,
          0.689200758934021,
          0.6685159206390381,
          0.6552088260650635,
          0.35143977403640747,
          0.6925908327102661,
          0.43855446577072144,
          0.43599605560302734,
          0.4342283606529236,
          0.4207913875579834,
          0.423128604888916,
          0.41950100660324097,
          0.4187871217727661,
          0.421415239572525,
          0.4256199300289154,
          0.4174133539199829,
          0.4369257092475891,
          0.5469424724578857,
          0.5541845560073853,
          0.5209696292877197,
          0.5487092137336731,
          0.4174027740955353,
          0.6374846696853638,
          0.6523016095161438,
          0.6774867177009583,
          0.6149630546569824,
          0.428621381521225,
          0.4623655080795288,
          0.6805078983306885,
          0.6804765462875366,
          0.542220950126648,
          0.588557779788971,
          0.5921181440353394,
          0.5978142023086548,
          0.6057227849960327,
          0.6204630732536316,
          0.5887928605079651,
          0.5877808928489685,
          0.5856152772903442,
          0.575340747833252,
          0.5406849384307861,
          0.4482083320617676,
          0.42212510108947754,
          0.4248477816581726,
          0.5871675610542297,
          0.576901912689209,
          0.42019400000572205,
          0.6354025602340698,
          0.4651588797569275,
          0.45371079444885254,
          0.4501532316207886,
          0.48659828305244446,
          0.6636277437210083,
          0.6437857747077942,
          0.6429762244224548,
          0.6088541746139526,
          0.5285832285881042,
          0.6243280172348022,
          0.526366651058197,
          0.5435991287231445,
          0.5509772300720215,
          0.661398708820343,
          0.4959896504878998,
          0.6202975511550903,
          0.6366361379623413,
          0.5905936360359192,
          0.5592383146286011,
          0.5928629040718079,
          0.5718954801559448,
          0.5636755228042603,
          0.47339576482772827,
          0.5152039527893066,
          0.5200107097625732,
          0.5045414566993713,
          0.4095573425292969,
          0.40227049589157104,
          0.40145841240882874,
          0.40462785959243774,
          0.4118758738040924,
          0.4381120800971985,
          0.47940996289253235,
          0.45747506618499756,
          0.46096187829971313,
          0.46000367403030396,
          0.4558675289154053,
          0.45049336552619934,
          0.4453399181365967,
          0.4832872152328491,
          0.5244152545928955,
          0.4755246341228485,
          0.515175998210907,
          0.5231844782829285,
          0.5180440545082092,
          0.5293329358100891,
          0.5244935750961304,
          0.5282211303710938,
          0.43361419439315796,
          0.4370318353176117,
          0.4388463497161865,
          0.42878156900405884,
          0.4245467185974121,
          0.46777698397636414,
          0.4349406659603119,
          0.5257942080497742,
          0.39013737440109253,
          0.44622910022735596,
          0.4479275643825531,
          0.4480839669704437,
          0.44096702337265015,
          0.44239747524261475,
          0.41041168570518494,
          0.4111407995223999,
          0.41288793087005615,
          0.4183175563812256,
          0.4519611597061157,
          0.6521469950675964,
          0.4314539134502411,
          0.4503316879272461,
          0.4432148337364197,
          0.5081789493560791,
          0.5691044330596924,
          0.5847214460372925,
          0.573639452457428,
          0.57965087890625,
          0.5853250622749329,
          0.5866914391517639,
          0.6026166677474976,
          0.5173146724700928,
          0.5021554827690125,
          0.40425169467926025,
          0.46993952989578247,
          0.514959454536438,
          0.5070511698722839,
          0.507733166217804,
          0.4834599792957306,
          0.3861984312534332,
          0.3924793601036072,
          0.3634984493255615,
          0.39599063992500305,
          0.4157012104988098,
          0.5889236927032471,
          0.5886127948760986,
          0.5233412384986877,
          0.528266191482544,
          0.589069128036499,
          0.5880753397941589,
          0.3840899169445038,
          0.5222497582435608,
          0.38598769903182983,
          0.37468960881233215,
          0.32885411381721497,
          0.37347665429115295,
          0.3511836528778076,
          0.39934241771698,
          0.39569711685180664,
          0.5783084630966187,
          0.5808384418487549,
          0.5834298133850098,
          0.5262682437896729,
          0.5887971520423889,
          0.5907884836196899,
          0.5873426795005798,
          0.517418622970581,
          0.5859547257423401,
          0.586162269115448,
          0.5866945385932922,
          0.6265227794647217,
          0.6100192666053772,
          0.601020872592926,
          0.5936151742935181,
          0.5887191891670227,
          0.5880905985832214,
          0.5899027585983276,
          0.5936720371246338,
          0.598948061466217,
          0.5625138878822327,
          0.5168476104736328,
          0.5883076190948486,
          0.589020848274231,
          0.5354153513908386,
          0.5317503213882446,
          0.5320394039154053,
          0.479184627532959,
          0.48969975113868713,
          0.5142010450363159,
          0.3425285816192627,
          0.35813382267951965,
          0.3754158318042755,
          0.6121680736541748,
          0.37729987502098083,
          0.3505430221557617,
          0.32290834188461304,
          0.4459765553474426,
          0.4635106325149536,
          0.4382111430168152,
          0.4237803518772125,
          0.45973989367485046,
          0.508527934551239,
          0.4747024476528168,
          0.47273489832878113,
          0.47717297077178955,
          0.47364920377731323,
          0.46674948930740356,
          0.4592840075492859,
          0.4387292265892029,
          0.5048366785049438,
          0.42245978116989136,
          0.5256732702255249,
          0.4844399094581604,
          0.4524058699607849,
          0.4508756399154663,
          0.5156918168067932,
          0.4330671429634094,
          0.499069482088089,
          0.5519388914108276,
          0.4329129457473755,
          0.4895375967025757,
          0.620637059211731,
          0.6390880942344666,
          0.5113313794136047,
          0.6008245944976807,
          0.4209510087966919,
          0.6687242984771729,
          0.5294896960258484,
          0.49612319469451904,
          0.44732797145843506,
          0.438824325799942,
          0.43951666355133057,
          0.5937774777412415,
          0.5343064069747925,
          0.6904427409172058,
          0.6711333394050598,
          0.6581097841262817,
          0.4383010268211365,
          0.4358380436897278,
          0.4342876672744751,
          0.4208967089653015,
          0.4235691726207733,
          0.4199579358100891,
          0.41914841532707214,
          0.42150139808654785,
          0.4255976676940918,
          0.41792309284210205,
          0.4370465874671936,
          0.5535935759544373,
          0.52059406042099,
          0.5483447313308716,
          0.6398518681526184,
          0.6546223163604736,
          0.6786178350448608,
          0.6176252961158752,
          0.4289829134941101,
          0.46254539489746094,
          0.682529866695404,
          0.5435890555381775,
          0.5880783796310425,
          0.5915254950523376,
          0.5973449945449829,
          0.6053562164306641,
          0.6205270290374756,
          0.5875037908554077,
          0.586435079574585,
          0.5842406153678894,
          0.5747745037078857,
          0.5405675768852234,
          0.44829443097114563,
          0.42224299907684326,
          0.4251662492752075,
          0.5859081149101257,
          0.5776646733283997,
          0.4203759729862213,
          0.6360281705856323,
          0.4538261294364929,
          0.4864044487476349,
          0.6432631611824036,
          0.609611451625824,
          0.5282207131385803,
          0.6250477433204651,
          0.5260725617408752,
          0.5432782173156738,
          0.5510549545288086,
          0.6621513962745667,
          0.49567312002182007,
          0.6218564510345459,
          0.6381617784500122,
          0.5910391211509705,
          0.5600084662437439,
          0.5939614772796631,
          0.5736624002456665,
          0.5635742545127869,
          0.4732150733470917,
          0.5150668621063232,
          0.5196840763092041,
          0.5045856237411499,
          0.40981486439704895,
          0.4023728370666504,
          0.401399165391922,
          0.40436914563179016,
          0.411533921957016,
          0.43809205293655396,
          0.48048922419548035,
          0.45740410685539246,
          0.4608309864997864,
          0.45982980728149414,
          0.4557346701622009,
          0.4504906237125397,
          0.4452770948410034,
          0.48440316319465637,
          0.5240817666053772,
          0.47545069456100464,
          0.5153775811195374,
          0.5232208967208862,
          0.5180054306983948,
          0.5290117859840393,
          0.5246667861938477,
          0.5283938050270081,
          0.43373697996139526,
          0.4370768368244171,
          0.438989520072937,
          0.42875951528549194,
          0.42429792881011963
         ],
         "z": [
          -0.03314288333058357,
          -0.05711892992258072,
          -0.03122354857623577,
          -0.04074188694357872,
          -0.060303378850221634,
          -0.05529109016060829,
          -0.02386048622429371,
          0.01837780699133873,
          -0.01451247837394476,
          -0.015495773404836655,
          0.00025655917124822736,
          -0.031831007450819016,
          -0.028308268636465073,
          -0.02360967919230461,
          -0.024448638781905174,
          -0.026489412412047386,
          -0.029405593872070312,
          -0.028849579393863678,
          -0.020039387047290802,
          -0.05194689705967903,
          -0.03745391219854355,
          0.07208181172609329,
          0.007010866422206163,
          0.007746072486042976,
          0.010644332505762577,
          0.019712014123797417,
          0.008192980661988258,
          0.0046693552285432816,
          0.004643282853066921,
          0.007882056757807732,
          0.01193429995328188,
          0.02484554424881935,
          -0.00680703017860651,
          0.022022690623998642,
          0.07250021398067474,
          0.03616173192858696,
          -0.006542402319610119,
          -0.03155241534113884,
          -0.02647709846496582,
          -0.025113411247730255,
          -0.017270037904381752,
          -0.022050222381949425,
          -0.014924506656825542,
          -0.0027668129187077284,
          -0.05619063973426819,
          -0.05894007161259651,
          0.016203058883547783,
          -0.006177359260618687,
          -0.02949770912528038,
          -0.026017315685749054,
          0.007741989567875862,
          -0.05183739215135574,
          -0.0015558552695438266,
          0.006629228591918945,
          0.05249888822436333,
          -0.01107964850962162,
          0.007622233126312494,
          0.0008674632990732789,
          0.09286154061555862,
          -0.025752650573849678,
          -0.027481570839881897,
          -0.00035744140041060746,
          -0.0034586552064865828,
          0.012279500253498554,
          -0.023950068280100822,
          -0.007675022818148136,
          -0.009158204309642315,
          0.01334691233932972,
          0.02956041507422924,
          0.0015541238244622946,
          0.025816526263952255,
          0.04763754457235336,
          -0.030195048078894615,
          -0.024048930034041405,
          -0.01700393296778202,
          -0.02380582131445408,
          -0.0019238092936575413,
          -0.009495115838944912,
          -0.003833739086985588,
          -0.04025490954518318,
          -0.013194558210670948,
          -0.01808924600481987,
          -0.02215028554201126,
          -0.019244946539402008,
          -0.0278164055198431,
          -0.028224578127264977,
          -0.025084396824240685,
          -0.023033641278743744,
          -0.013970358297228813,
          -0.0161456111818552,
          -0.0180720966309309,
          -0.016374753788113594,
          -0.013457533903419971,
          0.11218326538801193,
          -0.03818267211318016,
          -0.008166194893419743,
          -0.009420910850167274,
          -0.028576422482728958,
          -0.01690446026623249,
          -0.02814295142889023,
          -0.0029117134399712086,
          -0.00011142434959765524,
          -0.020125092938542366,
          0.03136630728840828,
          0.014515697956085205,
          0.0010419676546007395,
          -0.009303109720349312,
          -0.014398261904716492,
          -0.0060777608305215836,
          0.0027663151267915964,
          0.015438434667885303,
          0.030404044315218925,
          0.009825143031775951,
          0.021096518263220787,
          -0.009721800684928894,
          -0.03981843590736389,
          0.041537608951330185,
          0.020191313698887825,
          0.01005470659583807,
          0.005170788150280714,
          0.002960170852020383,
          0.00034096220042556524,
          -0.01976238377392292,
          0.03725612536072731,
          0.026633255183696747,
          -0.05125725641846657,
          -0.01146451011300087,
          0.10777582228183746,
          -0.0008120028651319444,
          -0.009603115729987621,
          0.023918649181723595,
          -0.03536364808678627,
          0.10553624480962753,
          0.012816168367862701,
          -0.045570652931928635,
          0.035145051777362823,
          0.052999097853899,
          0.07479250431060791,
          0.049369316548109055,
          0.06324609369039536,
          -0.001499079167842865,
          -0.03743476793169975,
          -0.008076976053416729,
          0.04669954255223274,
          0.012079117819666862,
          0.009523170068860054,
          -0.0074793146923184395,
          0.03905230388045311,
          0.000013567281712312251,
          0.023044519126415253,
          0.03627950698137283,
          -0.008402608335018158,
          -0.0036449837498366833,
          0.009018858894705772,
          0.010472412221133709,
          0.012644859030842781,
          0.037712838500738144,
          0.009334173053503036,
          0.0077943322248756886,
          0.008261977694928646,
          0.010679788887500763,
          0.01399773545563221,
          0.09257084131240845,
          0.015452352352440357,
          -0.0295999925583601,
          -0.018969934433698654,
          -0.029554584994912148,
          -0.0287614818662405,
          -0.015009401366114616,
          0.023460904136300087,
          0.011617522686719894,
          -0.01270492933690548,
          0.07380908727645874,
          0.011493752710521221,
          -0.024500437080860138,
          -0.01582794263958931,
          0.00920379813760519,
          0.07145766913890839,
          -0.018926726654171944,
          -0.02123056724667549,
          -0.023599369451403618,
          -0.02265285514295101,
          -0.015593144111335278,
          -0.008648714981973171,
          -0.008666520938277245,
          -0.008516546338796616,
          -0.006062143482267857,
          0.017357237637043,
          -0.013903478160500526,
          0.005765357054769993,
          0.00975817535072565,
          -0.0076301563531160355,
          0.030904117971658707,
          -0.007889898493885994,
          -0.010508764535188675,
          -0.044461723417043686,
          -0.03122982196509838,
          -0.03365320712327957,
          -0.02534961886703968,
          -0.02122512273490429,
          -0.020469672977924347,
          -0.017878253012895584,
          0.00318619841709733,
          -0.007716442458331585,
          -0.0035313102416694164,
          -0.0030812404584139585,
          -0.006458502262830734,
          0.004518615081906319,
          -0.017613673582673073,
          -0.018148820847272873,
          0.012445684522390366,
          0.0039193094708025455,
          0.005609367974102497,
          0.04136629402637482,
          0.015997806563973427,
          0.0650210902094841,
          -0.002004834823310375,
          -0.01747077889740467,
          -0.04227789118885994,
          -0.030912678688764572,
          -0.049751829355955124,
          0.0029596243984997272,
          0.0013075389433652163,
          0.0019668033346533775,
          0.006144040729850531,
          0.012570063583552837,
          0.028295215219259262,
          0.07411215454339981,
          0.019005801528692245,
          0.012271635234355927,
          0.007799174636602402,
          0.00588523643091321,
          0.005787216126918793,
          0.005285155028104782,
          0.11372485011816025,
          -0.025841116905212402,
          -0.03355765715241432,
          -0.050787609070539474,
          -0.04683927446603775,
          -0.045696280896663666,
          -0.022585498169064522,
          -0.04971516877412796,
          -0.03747249394655228,
          0.011103753000497818,
          0.0046068644151091576,
          -0.003095119260251522,
          0.017402280122041702,
          0.01780310459434986,
          -0.04093785211443901,
          0.017738929018378258,
          -0.03743872418999672,
          0.0707831084728241,
          0.0064414916560053825,
          0.007184019312262535,
          0.0100368931889534,
          0.018909338861703873,
          0.007823589257895947,
          0.004160612355917692,
          0.004387325141578913,
          0.007327022962272167,
          0.011238054372370243,
          0.02390303649008274,
          -0.007193789817392826,
          0.021295031532645226,
          0.07138017565011978,
          0.03505159169435501,
          -0.006993012502789497,
          -0.03176631033420563,
          -0.02661673165857792,
          -0.02551983669400215,
          -0.017829950898885727,
          -0.02251700684428215,
          -0.015306450426578522,
          -0.003342277370393276,
          -0.056212473660707474,
          -0.05902208387851715,
          0.015172629617154598,
          -0.00643364479765296,
          -0.029624149203300476,
          -0.026140565052628517,
          0.006612446159124374,
          -0.05202058330178261,
          -0.002115582348778844,
          0.005776328034698963,
          0.05138913542032242,
          -0.011254544369876385,
          0.007379954680800438,
          0.00014479875972028822,
          0.09171245247125626,
          -0.025909556075930595,
          -0.02751987613737583,
          -0.001040007802657783,
          -0.003950976766645908,
          0.011417490430176258,
          -0.02412918396294117,
          -0.008041411638259888,
          -0.00953042134642601,
          0.012843797914683819,
          0.02845974825322628,
          0.0011180724250152707,
          0.024859555065631866,
          0.04650329053401947,
          -0.03034180775284767,
          -0.02448783442378044,
          -0.017490187659859657,
          -0.02392105758190155,
          -0.0025699730031192303,
          -0.009838571771979332,
          -0.004343115724623203,
          -0.04054482281208038,
          -0.013676171191036701,
          -0.018337542191147804,
          -0.022280024364590645,
          -0.01938161626458168,
          -0.027995452284812927,
          -0.028269479051232338,
          -0.02522275783121586,
          -0.023136978968977928,
          -0.014319632202386856,
          -0.016412142664194107,
          -0.0183479692786932,
          -0.016625288873910904,
          -0.013860223814845085,
          0.11095617711544037,
          -0.008510901592671871,
          -0.009892444126307964,
          -0.028613094240427017,
          -0.01705155521631241,
          -0.028269963338971138,
          -0.0033329022116959095,
          -0.0007924980600364506,
          -0.020424213260412216,
          0.030548598617315292,
          0.013779395259916782,
          0.0005010804161429405,
          -0.009850740432739258,
          -0.01443975605070591,
          -0.006222839001566172,
          0.0024455422535538673,
          0.014573927037417889,
          0.029312297701835632,
          0.009573114104568958,
          0.020268931984901428,
          -0.009950856678187847,
          -0.03998485580086708,
          0.040409501641988754,
          0.019116496667265892,
          0.009072352200746536,
          0.00457553006708622,
          0.002574435668066144,
          -0.00002161557313229423,
          -0.01982850581407547,
          0.03590124845504761,
          0.025558702647686005,
          -0.051312848925590515,
          -0.011615633964538574,
          0.10646581649780273,
          -0.0010247094323858619,
          -0.009804337285459042,
          0.02312753163278103,
          -0.03551950305700302,
          0.10420607030391693,
          0.012609745375812054,
          -0.04572101682424545,
          0.03407850116491318,
          0.051906686276197433,
          0.07363667339086533,
          0.04838881641626358,
          0.06220589578151703,
          -0.001960228430107236,
          -0.037496667355298996,
          -0.008273581974208355,
          0.04558891803026199,
          0.011442326009273529,
          0.008917408995330334,
          -0.008080272004008293,
          0.03786748647689819,
          -0.0004564616538118571,
          0.022222451865673065,
          0.03544969856739044,
          0.00850495882332325,
          0.010067528113722801,
          0.012334834784269333,
          0.03660883381962776,
          0.009112652391195297,
          0.007373958360403776,
          0.007806631736457348,
          0.010196080431342125,
          0.013394974172115326,
          0.09130708873271942,
          0.014751864597201347,
          -0.019224116578698158,
          -0.029574811458587646,
          -0.02885989286005497,
          0.02268650196492672,
          0.010885162279009819,
          -0.013136625289916992,
          0.07254879176616669,
          0.011247934773564339,
          -0.024652455002069473,
          0.008634873665869236,
          0.07024122774600983,
          -0.019201304763555527,
          -0.021384602412581444,
          -0.023699363693594933,
          -0.02278962917625904,
          -0.01592225767672062,
          -0.009183967486023903,
          -0.009227781556546688,
          -0.009174828417599201,
          -0.006755897309631109,
          0.016235198825597763,
          -0.014118533581495285,
          0.005697848275303841,
          0.009559322148561478,
          -0.008168741129338741,
          0.02995345927774906,
          -0.007787025533616543,
          -0.010999545454978943,
          -0.031258393079042435,
          -0.025449354201555252,
          -0.01811833493411541,
          0.0023946582805365324,
          -0.00797292497009039,
          -0.0040468876250088215,
          -0.003794693388044834,
          -0.007022330071777105,
          0.0036252494901418686,
          -0.01793096587061882,
          -0.018278364092111588,
          0.011649317108094692,
          0.003286272520199418,
          0.004751265514642,
          0.04019317775964737,
          0.015067066065967083,
          0.06386201828718185,
          -0.0027088928036391735,
          -0.017621345818042755,
          -0.042472921311855316,
          -0.031099649146199226,
          -0.049880702048540115,
          0.0027765650302171707,
          0.0009607102838344872,
          0.0014177568955346942,
          0.0054031237959861755,
          0.011726836673915386,
          0.027440251782536507,
          0.07290354371070862,
          0.01819741353392601,
          0.011551721952855587,
          0.007241521961987019,
          0.005528121720999479,
          0.005442854017019272,
          0.0050809928216040134,
          0.1123414933681488,
          -0.025968004018068314,
          -0.03361302986741066,
          -0.05086669698357582,
          -0.046930063515901566,
          -0.04576796665787697,
          -0.02271055430173874,
          -0.04982180520892143,
          -0.03751480579376221,
          0.01099594496190548,
          0.004431732930243015,
          -0.0032815090380609035,
          0.016796650364995003,
          0.017207279801368713
         ]
        }
       ],
       "layout": {
        "coloraxis": {
         "colorbar": {
          "title": {
           "text": "index"
          }
         },
         "colorscale": [
          [
           0,
           "#0d0887"
          ],
          [
           0.1111111111111111,
           "#46039f"
          ],
          [
           0.2222222222222222,
           "#7201a8"
          ],
          [
           0.3333333333333333,
           "#9c179e"
          ],
          [
           0.4444444444444444,
           "#bd3786"
          ],
          [
           0.5555555555555556,
           "#d8576b"
          ],
          [
           0.6666666666666666,
           "#ed7953"
          ],
          [
           0.7777777777777778,
           "#fb9f3a"
          ],
          [
           0.8888888888888888,
           "#fdca26"
          ],
          [
           1,
           "#f0f921"
          ]
         ]
        },
        "legend": {
         "tracegroupgap": 0
        },
        "margin": {
         "t": 60
        },
        "scene": {
         "domain": {
          "x": [
           0,
           1
          ],
          "y": [
           0,
           1
          ]
         },
         "xaxis": {
          "title": {
           "text": "X"
          }
         },
         "yaxis": {
          "title": {
           "text": "Y"
          }
         },
         "zaxis": {
          "title": {
           "text": "Z"
          }
         }
        },
        "template": {
         "data": {
          "bar": [
           {
            "error_x": {
             "color": "#2a3f5f"
            },
            "error_y": {
             "color": "#2a3f5f"
            },
            "marker": {
             "line": {
              "color": "#E5ECF6",
              "width": 0.5
             },
             "pattern": {
              "fillmode": "overlay",
              "size": 10,
              "solidity": 0.2
             }
            },
            "type": "bar"
           }
          ],
          "barpolar": [
           {
            "marker": {
             "line": {
              "color": "#E5ECF6",
              "width": 0.5
             },
             "pattern": {
              "fillmode": "overlay",
              "size": 10,
              "solidity": 0.2
             }
            },
            "type": "barpolar"
           }
          ],
          "carpet": [
           {
            "aaxis": {
             "endlinecolor": "#2a3f5f",
             "gridcolor": "white",
             "linecolor": "white",
             "minorgridcolor": "white",
             "startlinecolor": "#2a3f5f"
            },
            "baxis": {
             "endlinecolor": "#2a3f5f",
             "gridcolor": "white",
             "linecolor": "white",
             "minorgridcolor": "white",
             "startlinecolor": "#2a3f5f"
            },
            "type": "carpet"
           }
          ],
          "choropleth": [
           {
            "colorbar": {
             "outlinewidth": 0,
             "ticks": ""
            },
            "type": "choropleth"
           }
          ],
          "contour": [
           {
            "colorbar": {
             "outlinewidth": 0,
             "ticks": ""
            },
            "colorscale": [
             [
              0,
              "#0d0887"
             ],
             [
              0.1111111111111111,
              "#46039f"
             ],
             [
              0.2222222222222222,
              "#7201a8"
             ],
             [
              0.3333333333333333,
              "#9c179e"
             ],
             [
              0.4444444444444444,
              "#bd3786"
             ],
             [
              0.5555555555555556,
              "#d8576b"
             ],
             [
              0.6666666666666666,
              "#ed7953"
             ],
             [
              0.7777777777777778,
              "#fb9f3a"
             ],
             [
              0.8888888888888888,
              "#fdca26"
             ],
             [
              1,
              "#f0f921"
             ]
            ],
            "type": "contour"
           }
          ],
          "contourcarpet": [
           {
            "colorbar": {
             "outlinewidth": 0,
             "ticks": ""
            },
            "type": "contourcarpet"
           }
          ],
          "heatmap": [
           {
            "colorbar": {
             "outlinewidth": 0,
             "ticks": ""
            },
            "colorscale": [
             [
              0,
              "#0d0887"
             ],
             [
              0.1111111111111111,
              "#46039f"
             ],
             [
              0.2222222222222222,
              "#7201a8"
             ],
             [
              0.3333333333333333,
              "#9c179e"
             ],
             [
              0.4444444444444444,
              "#bd3786"
             ],
             [
              0.5555555555555556,
              "#d8576b"
             ],
             [
              0.6666666666666666,
              "#ed7953"
             ],
             [
              0.7777777777777778,
              "#fb9f3a"
             ],
             [
              0.8888888888888888,
              "#fdca26"
             ],
             [
              1,
              "#f0f921"
             ]
            ],
            "type": "heatmap"
           }
          ],
          "heatmapgl": [
           {
            "colorbar": {
             "outlinewidth": 0,
             "ticks": ""
            },
            "colorscale": [
             [
              0,
              "#0d0887"
             ],
             [
              0.1111111111111111,
              "#46039f"
             ],
             [
              0.2222222222222222,
              "#7201a8"
             ],
             [
              0.3333333333333333,
              "#9c179e"
             ],
             [
              0.4444444444444444,
              "#bd3786"
             ],
             [
              0.5555555555555556,
              "#d8576b"
             ],
             [
              0.6666666666666666,
              "#ed7953"
             ],
             [
              0.7777777777777778,
              "#fb9f3a"
             ],
             [
              0.8888888888888888,
              "#fdca26"
             ],
             [
              1,
              "#f0f921"
             ]
            ],
            "type": "heatmapgl"
           }
          ],
          "histogram": [
           {
            "marker": {
             "pattern": {
              "fillmode": "overlay",
              "size": 10,
              "solidity": 0.2
             }
            },
            "type": "histogram"
           }
          ],
          "histogram2d": [
           {
            "colorbar": {
             "outlinewidth": 0,
             "ticks": ""
            },
            "colorscale": [
             [
              0,
              "#0d0887"
             ],
             [
              0.1111111111111111,
              "#46039f"
             ],
             [
              0.2222222222222222,
              "#7201a8"
             ],
             [
              0.3333333333333333,
              "#9c179e"
             ],
             [
              0.4444444444444444,
              "#bd3786"
             ],
             [
              0.5555555555555556,
              "#d8576b"
             ],
             [
              0.6666666666666666,
              "#ed7953"
             ],
             [
              0.7777777777777778,
              "#fb9f3a"
             ],
             [
              0.8888888888888888,
              "#fdca26"
             ],
             [
              1,
              "#f0f921"
             ]
            ],
            "type": "histogram2d"
           }
          ],
          "histogram2dcontour": [
           {
            "colorbar": {
             "outlinewidth": 0,
             "ticks": ""
            },
            "colorscale": [
             [
              0,
              "#0d0887"
             ],
             [
              0.1111111111111111,
              "#46039f"
             ],
             [
              0.2222222222222222,
              "#7201a8"
             ],
             [
              0.3333333333333333,
              "#9c179e"
             ],
             [
              0.4444444444444444,
              "#bd3786"
             ],
             [
              0.5555555555555556,
              "#d8576b"
             ],
             [
              0.6666666666666666,
              "#ed7953"
             ],
             [
              0.7777777777777778,
              "#fb9f3a"
             ],
             [
              0.8888888888888888,
              "#fdca26"
             ],
             [
              1,
              "#f0f921"
             ]
            ],
            "type": "histogram2dcontour"
           }
          ],
          "mesh3d": [
           {
            "colorbar": {
             "outlinewidth": 0,
             "ticks": ""
            },
            "type": "mesh3d"
           }
          ],
          "parcoords": [
           {
            "line": {
             "colorbar": {
              "outlinewidth": 0,
              "ticks": ""
             }
            },
            "type": "parcoords"
           }
          ],
          "pie": [
           {
            "automargin": true,
            "type": "pie"
           }
          ],
          "scatter": [
           {
            "fillpattern": {
             "fillmode": "overlay",
             "size": 10,
             "solidity": 0.2
            },
            "type": "scatter"
           }
          ],
          "scatter3d": [
           {
            "line": {
             "colorbar": {
              "outlinewidth": 0,
              "ticks": ""
             }
            },
            "marker": {
             "colorbar": {
              "outlinewidth": 0,
              "ticks": ""
             }
            },
            "type": "scatter3d"
           }
          ],
          "scattercarpet": [
           {
            "marker": {
             "colorbar": {
              "outlinewidth": 0,
              "ticks": ""
             }
            },
            "type": "scattercarpet"
           }
          ],
          "scattergeo": [
           {
            "marker": {
             "colorbar": {
              "outlinewidth": 0,
              "ticks": ""
             }
            },
            "type": "scattergeo"
           }
          ],
          "scattergl": [
           {
            "marker": {
             "colorbar": {
              "outlinewidth": 0,
              "ticks": ""
             }
            },
            "type": "scattergl"
           }
          ],
          "scattermapbox": [
           {
            "marker": {
             "colorbar": {
              "outlinewidth": 0,
              "ticks": ""
             }
            },
            "type": "scattermapbox"
           }
          ],
          "scatterpolar": [
           {
            "marker": {
             "colorbar": {
              "outlinewidth": 0,
              "ticks": ""
             }
            },
            "type": "scatterpolar"
           }
          ],
          "scatterpolargl": [
           {
            "marker": {
             "colorbar": {
              "outlinewidth": 0,
              "ticks": ""
             }
            },
            "type": "scatterpolargl"
           }
          ],
          "scatterternary": [
           {
            "marker": {
             "colorbar": {
              "outlinewidth": 0,
              "ticks": ""
             }
            },
            "type": "scatterternary"
           }
          ],
          "surface": [
           {
            "colorbar": {
             "outlinewidth": 0,
             "ticks": ""
            },
            "colorscale": [
             [
              0,
              "#0d0887"
             ],
             [
              0.1111111111111111,
              "#46039f"
             ],
             [
              0.2222222222222222,
              "#7201a8"
             ],
             [
              0.3333333333333333,
              "#9c179e"
             ],
             [
              0.4444444444444444,
              "#bd3786"
             ],
             [
              0.5555555555555556,
              "#d8576b"
             ],
             [
              0.6666666666666666,
              "#ed7953"
             ],
             [
              0.7777777777777778,
              "#fb9f3a"
             ],
             [
              0.8888888888888888,
              "#fdca26"
             ],
             [
              1,
              "#f0f921"
             ]
            ],
            "type": "surface"
           }
          ],
          "table": [
           {
            "cells": {
             "fill": {
              "color": "#EBF0F8"
             },
             "line": {
              "color": "white"
             }
            },
            "header": {
             "fill": {
              "color": "#C8D4E3"
             },
             "line": {
              "color": "white"
             }
            },
            "type": "table"
           }
          ]
         },
         "layout": {
          "annotationdefaults": {
           "arrowcolor": "#2a3f5f",
           "arrowhead": 0,
           "arrowwidth": 1
          },
          "autotypenumbers": "strict",
          "coloraxis": {
           "colorbar": {
            "outlinewidth": 0,
            "ticks": ""
           }
          },
          "colorscale": {
           "diverging": [
            [
             0,
             "#8e0152"
            ],
            [
             0.1,
             "#c51b7d"
            ],
            [
             0.2,
             "#de77ae"
            ],
            [
             0.3,
             "#f1b6da"
            ],
            [
             0.4,
             "#fde0ef"
            ],
            [
             0.5,
             "#f7f7f7"
            ],
            [
             0.6,
             "#e6f5d0"
            ],
            [
             0.7,
             "#b8e186"
            ],
            [
             0.8,
             "#7fbc41"
            ],
            [
             0.9,
             "#4d9221"
            ],
            [
             1,
             "#276419"
            ]
           ],
           "sequential": [
            [
             0,
             "#0d0887"
            ],
            [
             0.1111111111111111,
             "#46039f"
            ],
            [
             0.2222222222222222,
             "#7201a8"
            ],
            [
             0.3333333333333333,
             "#9c179e"
            ],
            [
             0.4444444444444444,
             "#bd3786"
            ],
            [
             0.5555555555555556,
             "#d8576b"
            ],
            [
             0.6666666666666666,
             "#ed7953"
            ],
            [
             0.7777777777777778,
             "#fb9f3a"
            ],
            [
             0.8888888888888888,
             "#fdca26"
            ],
            [
             1,
             "#f0f921"
            ]
           ],
           "sequentialminus": [
            [
             0,
             "#0d0887"
            ],
            [
             0.1111111111111111,
             "#46039f"
            ],
            [
             0.2222222222222222,
             "#7201a8"
            ],
            [
             0.3333333333333333,
             "#9c179e"
            ],
            [
             0.4444444444444444,
             "#bd3786"
            ],
            [
             0.5555555555555556,
             "#d8576b"
            ],
            [
             0.6666666666666666,
             "#ed7953"
            ],
            [
             0.7777777777777778,
             "#fb9f3a"
            ],
            [
             0.8888888888888888,
             "#fdca26"
            ],
            [
             1,
             "#f0f921"
            ]
           ]
          },
          "colorway": [
           "#636efa",
           "#EF553B",
           "#00cc96",
           "#ab63fa",
           "#FFA15A",
           "#19d3f3",
           "#FF6692",
           "#B6E880",
           "#FF97FF",
           "#FECB52"
          ],
          "font": {
           "color": "#2a3f5f"
          },
          "geo": {
           "bgcolor": "white",
           "lakecolor": "white",
           "landcolor": "#E5ECF6",
           "showlakes": true,
           "showland": true,
           "subunitcolor": "white"
          },
          "hoverlabel": {
           "align": "left"
          },
          "hovermode": "closest",
          "mapbox": {
           "style": "light"
          },
          "paper_bgcolor": "white",
          "plot_bgcolor": "#E5ECF6",
          "polar": {
           "angularaxis": {
            "gridcolor": "white",
            "linecolor": "white",
            "ticks": ""
           },
           "bgcolor": "#E5ECF6",
           "radialaxis": {
            "gridcolor": "white",
            "linecolor": "white",
            "ticks": ""
           }
          },
          "scene": {
           "xaxis": {
            "backgroundcolor": "#E5ECF6",
            "gridcolor": "white",
            "gridwidth": 2,
            "linecolor": "white",
            "showbackground": true,
            "ticks": "",
            "zerolinecolor": "white"
           },
           "yaxis": {
            "backgroundcolor": "#E5ECF6",
            "gridcolor": "white",
            "gridwidth": 2,
            "linecolor": "white",
            "showbackground": true,
            "ticks": "",
            "zerolinecolor": "white"
           },
           "zaxis": {
            "backgroundcolor": "#E5ECF6",
            "gridcolor": "white",
            "gridwidth": 2,
            "linecolor": "white",
            "showbackground": true,
            "ticks": "",
            "zerolinecolor": "white"
           }
          },
          "shapedefaults": {
           "line": {
            "color": "#2a3f5f"
           }
          },
          "ternary": {
           "aaxis": {
            "gridcolor": "white",
            "linecolor": "white",
            "ticks": ""
           },
           "baxis": {
            "gridcolor": "white",
            "linecolor": "white",
            "ticks": ""
           },
           "bgcolor": "#E5ECF6",
           "caxis": {
            "gridcolor": "white",
            "linecolor": "white",
            "ticks": ""
           }
          },
          "title": {
           "x": 0.05
          },
          "xaxis": {
           "automargin": true,
           "gridcolor": "white",
           "linecolor": "white",
           "ticks": "",
           "title": {
            "standoff": 15
           },
           "zerolinecolor": "white",
           "zerolinewidth": 2
          },
          "yaxis": {
           "automargin": true,
           "gridcolor": "white",
           "linecolor": "white",
           "ticks": "",
           "title": {
            "standoff": 15
           },
           "zerolinecolor": "white",
           "zerolinewidth": 2
          }
         }
        }
       }
      }
     },
     "metadata": {},
     "output_type": "display_data"
    }
   ],
   "source": [
    "\n",
    "\n",
    "def visualize_3d_landmarks(image_path):\n",
    "    # Initialize MediaPipe Face Detection and Facial Landmarks models\n",
    "    mp_face_mesh = mp.solutions.face_mesh\n",
    "    face_mesh = mp_face_mesh.FaceMesh()\n",
    "\n",
    "    # Load the image\n",
    "    image = cv2.imread(image_path)\n",
    "\n",
    "    # Process landmarks\n",
    "    landmarks = face_mesh.process(image)\n",
    "\n",
    "    if landmarks.multi_face_landmarks:\n",
    "        # Create empty lists to store the 3D coordinates\n",
    "        x = []\n",
    "        y = []\n",
    "        z = []\n",
    "\n",
    "        for face_landmarks in landmarks.multi_face_landmarks:\n",
    "            for landmark in face_landmarks.landmark:\n",
    "                x.append(landmark.x)\n",
    "                y.append(landmark.y)\n",
    "                z.append(landmark.z)\n",
    "\n",
    "        # Create a DataFrame from the coordinates\n",
    "        df = pd.DataFrame({'X': x, 'Y': y, 'Z': z})\n",
    "\n",
    "        # Create a 3D scatter plot using Plotly Express with a smaller marker size\n",
    "        fig = px.scatter_3d(df, x='X', y='Y', z='Z', color=df.index, labels={'X': 'X', 'Y': 'Y', 'Z': 'Z'})\n",
    "        fig.update_traces(marker=dict(size=2))# Adjust the size_max to your preference\n",
    "        fig.show()\n",
    "\n",
    "image_path = r'image_10.jpg'  # Replace with the path to your image\n",
    "visualize_3d_landmarks(image_path)\n"
   ]
  }
 ],
 "metadata": {
  "kernelspec": {
   "display_name": "Python 3",
   "language": "python",
   "name": "python3"
  },
  "language_info": {
   "codemirror_mode": {
    "name": "ipython",
    "version": 3
   },
   "file_extension": ".py",
   "mimetype": "text/x-python",
   "name": "python",
   "nbconvert_exporter": "python",
   "pygments_lexer": "ipython3",
   "version": "3.10.8"
  }
 },
 "nbformat": 4,
 "nbformat_minor": 2
}
