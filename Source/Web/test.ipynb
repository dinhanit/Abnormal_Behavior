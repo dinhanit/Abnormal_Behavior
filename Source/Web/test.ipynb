{
 "cells": [
  {
   "cell_type": "code",
   "execution_count": 21,
   "metadata": {},
   "outputs": [],
   "source": [
    "import requests,cv2\n",
    "img = cv2.imread(\"Dat.jpg\")"
   ]
  },
  {
   "cell_type": "code",
   "execution_count": 24,
   "metadata": {},
   "outputs": [
    {
     "name": "stdout",
     "output_type": "stream",
     "text": [
      "\"Abnormal\"\n",
      "\"Abnormal\"\n",
      "\"Abnormal\"\n",
      "\"Abnormal\"\n",
      "\"Abnormal\"\n",
      "\"Abnormal\"\n",
      "\"Abnormal\"\n",
      "\"Abnormal\"\n",
      "\"Abnormal\"\n",
      "\"Abnormal\"\n",
      "\"Abnormal\"\n",
      "\"Abnormal\"\n",
      "\"Abnormal\"\n",
      "\"Abnormal\"\n",
      "\"Abnormal\"\n",
      "\"Abnormal\"\n",
      "\"Abnormal\"\n",
      "\"Abnormal\"\n",
      "\"Abnormal\"\n",
      "\"Abnormal\"\n",
      "\"Abnormal\"\n",
      "\"Abnormal\"\n",
      "\"Abnormal\"\n",
      "\"Abnormal\"\n",
      "\"Abnormal\"\n",
      "\"Abnormal\"\n",
      "\"Abnormal\"\n",
      "\"Abnormal\"\n",
      "\"Abnormal\"\n",
      "\"Abnormal\"\n",
      "\"Abnormal\"\n",
      "\"Abnormal\"\n",
      "\"Abnormal\"\n",
      "\"Abnormal\"\n",
      "\"Abnormal\"\n",
      "\"Abnormal\"\n",
      "\"Abnormal\"\n",
      "\"Abnormal\"\n",
      "\"Abnormal\"\n",
      "\"Abnormal\"\n",
      "\"Abnormal\"\n",
      "\"Abnormal\"\n",
      "\"Abnormal\"\n",
      "\"Abnormal\"\n",
      "\"Abnormal\"\n",
      "\"Abnormal\"\n",
      "\"Abnormal\"\n",
      "\"Abnormal\"\n",
      "\"Abnormal\"\n",
      "\"Abnormal\"\n"
     ]
    }
   ],
   "source": [
    "i = 0\n",
    "while True:\n",
    "    i += 1\n",
    "    img = cv2.imread(\"Dat.jpg\")\n",
    "    _, image = cv2.imencode(\".jpg\", img)\n",
    "    url = \"http://192.168.0.199:8501/process_frame/\"  \n",
    "    files = {'file': ('image.jpg', image)}\n",
    "    response = requests.post(url, files=files)\n",
    "    print(response.text)\n",
    "    \n",
    "    if i == 50:\n",
    "        break\n",
    "    "
   ]
  },
  {
   "cell_type": "code",
   "execution_count": 23,
   "metadata": {},
   "outputs": [],
   "source": [
    "label = response.text"
   ]
  },
  {
   "cell_type": "code",
   "execution_count": 9,
   "metadata": {},
   "outputs": [
    {
     "data": {
      "text/plain": [
       "False"
      ]
     },
     "execution_count": 9,
     "metadata": {},
     "output_type": "execute_result"
    }
   ],
   "source": [
    "label == '\"Abnormal\"'"
   ]
  },
  {
   "cell_type": "code",
   "execution_count": 10,
   "metadata": {},
   "outputs": [
    {
     "data": {
      "text/plain": [
       "'{\"detail\":\"Invalid file type, only images are supported\"}'"
      ]
     },
     "execution_count": 10,
     "metadata": {},
     "output_type": "execute_result"
    }
   ],
   "source": [
    "label"
   ]
  },
  {
   "cell_type": "code",
   "execution_count": null,
   "metadata": {},
   "outputs": [],
   "source": []
  }
 ],
 "metadata": {
  "kernelspec": {
   "display_name": "Python 3",
   "language": "python",
   "name": "python3"
  },
  "language_info": {
   "codemirror_mode": {
    "name": "ipython",
    "version": 3
   },
   "file_extension": ".py",
   "mimetype": "text/x-python",
   "name": "python",
   "nbconvert_exporter": "python",
   "pygments_lexer": "ipython3",
   "version": "3.10.9"
  }
 },
 "nbformat": 4,
 "nbformat_minor": 2
}
